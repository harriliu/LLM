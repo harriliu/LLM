{
 "cells": [
  {
   "cell_type": "markdown",
   "id": "108c6fa9-c4a0-4bd7-9899-65fc095fc6b8",
   "metadata": {},
   "source": [
    "# Simple RAG with GPT PR"
   ]
  },
  {
   "cell_type": "code",
   "execution_count": 2,
   "id": "470a2dd1-8720-42a2-a559-be5f4ce30931",
   "metadata": {},
   "outputs": [
    {
     "name": "stdout",
     "output_type": "stream",
     "text": [
      "--2025-02-20 15:07:24--  https://raw.githubusercontent.com/harriliu/LLM/refs/heads/main/minisearch.py\n",
      "Resolving raw.githubusercontent.com (raw.githubusercontent.com)... 185.199.108.133, 185.199.109.133, 185.199.110.133, ...\n",
      "Connecting to raw.githubusercontent.com (raw.githubusercontent.com)|185.199.108.133|:443... connected.\n",
      "200 OKequest sent, awaiting response... \n",
      "Length: 3833 (3.7K) [text/plain]\n",
      "Saving to: ‘minisearch.py’\n",
      "\n",
      "minisearch.py       100%[===================>]   3.74K  --.-KB/s    in 0s      \n",
      "\n",
      "2025-02-20 15:07:24 (30.2 MB/s) - ‘minisearch.py’ saved [3833/3833]\n",
      "\n"
     ]
    }
   ],
   "source": [
    "!wget https://raw.githubusercontent.com/harriliu/LLM/refs/heads/main/minisearch.py"
   ]
  },
  {
   "cell_type": "code",
   "execution_count": 5,
   "id": "99927cc5-b654-4d1d-9788-acada0a4c031",
   "metadata": {},
   "outputs": [],
   "source": [
    "import minisearch\n",
    "import json"
   ]
  },
  {
   "cell_type": "markdown",
   "id": "97ccb509-4f47-4808-bb82-12684e473dcb",
   "metadata": {},
   "source": [
    "### Get the toy text data from the documents.json contains Data Zoomcamp course FAQ"
   ]
  },
  {
   "cell_type": "code",
   "execution_count": 7,
   "id": "4041e22d-b28e-4eda-9b33-409233010930",
   "metadata": {},
   "outputs": [],
   "source": [
    "with open('documents.json', 'rt') as f_in:\n",
    "    docs_raw = json.load(f_in)"
   ]
  },
  {
   "cell_type": "code",
   "execution_count": 8,
   "id": "880c5999-a480-41bf-9c59-e9b93d2b9ae7",
   "metadata": {},
   "outputs": [],
   "source": [
    "documents = []\n",
    "\n",
    "for course_dict in docs_raw:\n",
    "    for doc in course_dict['documents']:\n",
    "        doc['course'] = course_dict['course']\n",
    "        documents.append(doc)"
   ]
  },
  {
   "cell_type": "code",
   "execution_count": 13,
   "id": "71e0bf4d-7b5d-45c7-b47f-0542deed4c0e",
   "metadata": {},
   "outputs": [],
   "source": [
    "index = minisearch.Index(\n",
    "    text_fields=[\"question\", \"text\", \"section\"],\n",
    "    keyword_fields=[\"course\"]\n",
    ")"
   ]
  },
  {
   "cell_type": "markdown",
   "id": "4fe5c1f9-c550-4851-8eac-c77b5fd579ec",
   "metadata": {},
   "source": [
    "Fit the document to the minisearch search engine"
   ]
  },
  {
   "cell_type": "code",
   "execution_count": 16,
   "id": "c0f42f32-b6e6-466f-9895-0c1b312040b2",
   "metadata": {},
   "outputs": [
    {
     "data": {
      "text/plain": [
       "<minisearch.Index at 0x7dc6f4bc8ec0>"
      ]
     },
     "execution_count": 16,
     "metadata": {},
     "output_type": "execute_result"
    }
   ],
   "source": [
    "index.fit(documents)"
   ]
  },
  {
   "cell_type": "code",
   "execution_count": 25,
   "id": "523bda9d-e523-4313-9f36-38e60385095a",
   "metadata": {},
   "outputs": [],
   "source": [
    "# create a function to search in the documents based on query from the user\n",
    "def search(query):\n",
    "    boost = {'question': 3.0, 'section': 0.5}\n",
    "\n",
    "    results = index.search(\n",
    "        query=query,\n",
    "        filter_dict={'course': 'machine-learning-zoomcamp'},\n",
    "        boost_dict=boost,\n",
    "        num_results=2\n",
    "    )\n",
    "\n",
    "    return results"
   ]
  },
  {
   "cell_type": "code",
   "execution_count": 26,
   "id": "1bafc485-adba-4f8f-8c3c-53330b66d9ba",
   "metadata": {},
   "outputs": [
    {
     "data": {
      "text/plain": [
       "[{'text': 'Yes, you can. You won’t be able to submit some of the homeworks, but you can still take part in the course.\\nIn order to get a certificate, you need to submit 2 out of 3 course projects and review 3 peers’ Projects by the deadline. It means that if you join the course at the end of November and manage to work on two projects, you will still be eligible for a certificate.',\n",
       "  'section': 'General course-related questions',\n",
       "  'question': 'The course has already started. Can I still join it?',\n",
       "  'course': 'machine-learning-zoomcamp'},\n",
       " {'text': \"Yes! We'll cover some linear algebra in the course, but in general, there will be very few formulas, mostly code.\\nHere are some interesting videos covering linear algebra that you can already watch: ML Zoomcamp 1.8 - Linear Algebra Refresher from Alexey Grigorev or the excellent playlist from 3Blue1Brown Vectors | Chapter 1, Essence of linear algebra. Never hesitate to ask the community for help if you have any question.\\n(Mélanie Fouesnard)\",\n",
       "  'section': 'General course-related questions',\n",
       "  'question': \"I don't know math. Can I take the course?\",\n",
       "  'course': 'machine-learning-zoomcamp'}]"
      ]
     },
     "execution_count": 26,
     "metadata": {},
     "output_type": "execute_result"
    }
   ],
   "source": [
    "search('the course has already started, can I still enroll?')"
   ]
  },
  {
   "cell_type": "code",
   "execution_count": null,
   "id": "a7614ea5-7dc6-4cae-942a-eec552b273ea",
   "metadata": {},
   "outputs": [],
   "source": []
  }
 ],
 "metadata": {
  "kernelspec": {
   "display_name": "Python 3 (ipykernel)",
   "language": "python",
   "name": "python3"
  },
  "language_info": {
   "codemirror_mode": {
    "name": "ipython",
    "version": 3
   },
   "file_extension": ".py",
   "mimetype": "text/x-python",
   "name": "python",
   "nbconvert_exporter": "python",
   "pygments_lexer": "ipython3",
   "version": "3.12.1"
  }
 },
 "nbformat": 4,
 "nbformat_minor": 5
}
