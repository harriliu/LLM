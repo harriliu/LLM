{
 "cells": [
  {
   "cell_type": "markdown",
   "id": "4ca5da07-a607-4615-9cc5-710cf8d79b5b",
   "metadata": {},
   "source": [
    "# AI Business Brochure Generator\n",
    "\n",
    "- This project use Multi-shot prompting where you provide multiple examples of input-output pairs to help an AI model better understand the pattern or task you want it to perform. Instead of just giving one example (single-shot) or no examples (zero-shot).\n",
    "- This function allows user to select different language and tones"
   ]
  },
  {
   "cell_type": "code",
   "execution_count": 1,
   "id": "f75fc33e-1e87-4ea7-9163-68417526436c",
   "metadata": {},
   "outputs": [],
   "source": [
    "import os\n",
    "import requests\n",
    "import json\n",
    "from typing import List\n",
    "from dotenv import load_dotenv\n",
    "from bs4 import BeautifulSoup\n",
    "from IPython.display import Markdown, display, update_display\n",
    "from openai import OpenAI"
   ]
  },
  {
   "cell_type": "code",
   "execution_count": 2,
   "id": "0f61c609-be55-48db-b3e1-a20c0e13bd8a",
   "metadata": {},
   "outputs": [],
   "source": [
    "load_dotenv(override=True)\n",
    "api_key = os.getenv('OPENAI_API_KEY')"
   ]
  },
  {
   "cell_type": "code",
   "execution_count": 3,
   "id": "c5ab86e6-3bff-4eea-86de-41e417412908",
   "metadata": {},
   "outputs": [],
   "source": [
    "MODEL = 'gpt-4o-mini'\n",
    "openai = OpenAI()"
   ]
  },
  {
   "cell_type": "code",
   "execution_count": 4,
   "id": "f30fcddf-c071-4fa0-9cc2-3f2d7c9c3853",
   "metadata": {},
   "outputs": [],
   "source": [
    "# A class to represent a Webpage\n",
    "\n",
    "# Some websites need you to use proper headers when fetching them:\n",
    "headers = {\n",
    " \"User-Agent\": \"Mozilla/5.0 (Windows NT 10.0; Win64; x64) AppleWebKit/537.36 (KHTML, like Gecko) Chrome/117.0.0.0 Safari/537.36\"\n",
    "}\n",
    "\n",
    "class Website:\n",
    "    \"\"\"\n",
    "    A utility class to represent a Website that we have scraped, now with links\n",
    "    \"\"\"\n",
    "\n",
    "    def __init__(self, url):\n",
    "        self.url = url\n",
    "        response = requests.get(url, headers=headers)\n",
    "        self.body = response.content\n",
    "        soup = BeautifulSoup(self.body, 'html.parser')\n",
    "        self.title = soup.title.string if soup.title else \"No title found\"\n",
    "        if soup.body:\n",
    "            for irrelevant in soup.body([\"script\", \"style\", \"img\", \"input\"]):\n",
    "                irrelevant.decompose()\n",
    "            self.text = soup.body.get_text(separator=\"\\n\", strip=True)\n",
    "        else:\n",
    "            self.text = \"\"\n",
    "        links = [link.get('href') for link in soup.find_all('a')]\n",
    "        self.links = [link for link in links if link]\n",
    "\n",
    "    def get_contents(self):\n",
    "        return f\"Webpage Title:\\n{self.title}\\nWebpage Contents:\\n{self.text}\\n\\n\""
   ]
  },
  {
   "cell_type": "code",
   "execution_count": 72,
   "id": "409a4aba-c621-4ebf-9161-a919d9a9cb1d",
   "metadata": {},
   "outputs": [],
   "source": [
    "website_provided = Website(\"https://www.brooklynkids.org/\")"
   ]
  },
  {
   "cell_type": "code",
   "execution_count": 73,
   "id": "8cca536b-b328-4837-9b59-c4a9734db68a",
   "metadata": {},
   "outputs": [
    {
     "data": {
      "text/plain": [
       "['#content',\n",
       " '/calendar',\n",
       " 'https://www.brooklynkids.org',\n",
       " 'https://www.brooklynkids.org/visit/',\n",
       " 'https://www.brooklynkids.org/visit/',\n",
       " 'https://www.brooklynkids.org/faq/',\n",
       " '/exhibit-type/permanent/',\n",
       " '/programs/',\n",
       " 'https://www.brooklynkids.org/colorlab/',\n",
       " 'https://www.brooklynkids.org/natures-engineers/',\n",
       " '/events/',\n",
       " 'https://www.brooklynkids.org/movies/',\n",
       " 'https://www.brooklynkids.org/movies/',\n",
       " 'https://www.brooklynkids.org/saturday-morning-cartoons/',\n",
       " 'https://www.brooklynkids.org/birthdays/',\n",
       " 'https://www.brooklynkids.org/birthdays/',\n",
       " 'https://www.brooklynkids.org/space-rentals/',\n",
       " 'https://www.brooklynkids.org/education/',\n",
       " 'https://www.brooklynkids.org/education/',\n",
       " 'https://www.brooklynkids.org/school-visits/',\n",
       " 'https://www.brooklynkids.org/camp-visits/',\n",
       " 'https://www.brooklynkids.org/summer-camp/',\n",
       " 'https://www.brooklynkids.org/museum-on-the-go/',\n",
       " 'https://www.brooklynkids.org/after-school-program/',\n",
       " 'https://www.brooklynkids.org/teens/',\n",
       " 'https://www.brooklynkids.org/bcmyou/',\n",
       " 'https://www.brooklynkids.org/activity-kits/',\n",
       " 'https://www.brooklynkids.org/educator-resources/',\n",
       " 'https://www.brooklynkids.org/about/',\n",
       " 'https://www.brooklynkids.org/about/',\n",
       " 'https://www.brooklynkids.org/collections/',\n",
       " 'https://www.brooklynkids.org/board-staff/',\n",
       " 'https://www.brooklynkids.org/employment/',\n",
       " 'https://www.brooklynkids.org/policies-document/',\n",
       " 'https://www.brooklynkids.org/press/',\n",
       " 'https://www.brooklynkids.org/contact/',\n",
       " '/join',\n",
       " '/give',\n",
       " '/tickets',\n",
       " 'https://www.brooklynkids.org/visit/',\n",
       " 'https://www.brooklynkids.org/visit/',\n",
       " 'https://www.brooklynkids.org/faq/',\n",
       " '/exhibit-type/permanent/',\n",
       " '/programs/',\n",
       " 'https://www.brooklynkids.org/colorlab/',\n",
       " 'https://www.brooklynkids.org/natures-engineers/',\n",
       " '/events/',\n",
       " 'https://www.brooklynkids.org/movies/',\n",
       " 'https://www.brooklynkids.org/movies/',\n",
       " 'https://www.brooklynkids.org/saturday-morning-cartoons/',\n",
       " 'https://www.brooklynkids.org/birthdays/',\n",
       " 'https://www.brooklynkids.org/birthdays/',\n",
       " 'https://www.brooklynkids.org/space-rentals/',\n",
       " 'https://www.brooklynkids.org/education/',\n",
       " 'https://www.brooklynkids.org/education/',\n",
       " 'https://www.brooklynkids.org/school-visits/',\n",
       " 'https://www.brooklynkids.org/camp-visits/',\n",
       " 'https://www.brooklynkids.org/summer-camp/',\n",
       " 'https://www.brooklynkids.org/museum-on-the-go/',\n",
       " 'https://www.brooklynkids.org/after-school-program/',\n",
       " 'https://www.brooklynkids.org/teens/',\n",
       " 'https://www.brooklynkids.org/bcmyou/',\n",
       " 'https://www.brooklynkids.org/activity-kits/',\n",
       " 'https://www.brooklynkids.org/educator-resources/',\n",
       " 'https://www.brooklynkids.org/about/',\n",
       " 'https://www.brooklynkids.org/about/',\n",
       " 'https://www.brooklynkids.org/collections/',\n",
       " 'https://www.brooklynkids.org/board-staff/',\n",
       " 'https://www.brooklynkids.org/employment/',\n",
       " 'https://www.brooklynkids.org/policies-document/',\n",
       " 'https://www.brooklynkids.org/press/',\n",
       " 'https://www.brooklynkids.org/contact/',\n",
       " '/join',\n",
       " '/give',\n",
       " 'https://www.brooklynkids.org/programs/black-future-festival/',\n",
       " 'https://www.brooklynkids.org/exhibits/in-the-works/',\n",
       " 'https://www.brooklynkids.org/exhibits/artrink/',\n",
       " 'https://www.brooklynkids.org/natures-engineers/',\n",
       " 'https://www.brooklynkids.org/movies/',\n",
       " '/programs',\n",
       " '/join',\n",
       " '/events/',\n",
       " 'https://www.brooklynkids.org/events/black-future-festival-6/',\n",
       " 'https://www.brooklynkids.org/events/black-future-festival-7/',\n",
       " 'https://www.brooklynkids.org/events/play-session-4-2025-02-23/',\n",
       " 'https://www.brooklynkids.org/events/hands-on-collections-2025-02-23/',\n",
       " 'https://www.brooklynkids.org/events/play-at-bcm-2025-02-26/',\n",
       " '/exhibit-type/permanent/',\n",
       " 'https://www.brooklynkids.org/exhibits/in-the-works/',\n",
       " 'https://www.brooklynkids.org/exhibits/artrink/',\n",
       " 'https://www.brooklynkids.org/exhibits/airmaze/',\n",
       " 'https://www.brooklynkids.org/exhibits/totally-tots/',\n",
       " 'https://www.brooklynkids.org/exhibits/the-nest/',\n",
       " 'https://www.brooklynkids.org/exhibits/neighborhood-nature/',\n",
       " '/birthdays',\n",
       " '/school-visits/',\n",
       " 'https://www.facebook.com/BrooklynChildrensMuseum',\n",
       " 'https://www.instagram.com/bcmkids/',\n",
       " 'https://twitter.com/BrooklynKids',\n",
       " 'https://www.linkedin.com/company/brooklynkids',\n",
       " '/tickets',\n",
       " '/join',\n",
       " '/give',\n",
       " '/calendar',\n",
       " '/school-visits',\n",
       " '/birthdays',\n",
       " '/movies',\n",
       " '#',\n",
       " '#']"
      ]
     },
     "execution_count": 73,
     "metadata": {},
     "output_type": "execute_result"
    }
   ],
   "source": [
    "website_provided.links"
   ]
  },
  {
   "cell_type": "markdown",
   "id": "c69e77a1-1929-454c-8ae1-de00a5633eef",
   "metadata": {},
   "source": [
    "# Link selection section\n",
    "### As you can see there are many link in a given website, let's create a block of fucntion to ask GPT which link is relevant\n"
   ]
  },
  {
   "cell_type": "code",
   "execution_count": 74,
   "id": "450c19fe-734c-49c7-94ed-56129d37bc29",
   "metadata": {},
   "outputs": [],
   "source": [
    "# create a prompt to allow GPT to decide which link from the website is relevant to create a company brochure\n",
    "link_system_prompt = \"You are provided with a list of links found on a webpage. \\\n",
    "You are able to decide which of the links would be most relevant to include in a brochure about the company, \\\n",
    "such as links to an About page, or a Company page, or Careers/Jobs pages or Pricing of product/service.\\n\"\n",
    "link_system_prompt += \"You should respond in JSON as in this example:\"\n",
    "link_system_prompt += \"\"\"\n",
    "{\n",
    "    \"links\": [\n",
    "        {\"type\": \"about page\", \"url\": \"https://full.url/goes/here/about\"},\n",
    "        {\"type\": \"careers page\": \"url\": \"https://another.full.url/careers\"}\n",
    "    ]\n",
    "}\n",
    "\"\"\"\n",
    "def get_links_user_prompt(website):\n",
    "    user_prompt = f\"Here is the list of links on the website of {website.url} - \"\n",
    "    user_prompt += \"please decide which of these are relevant web links for a brochure about the company, respond with the full https URL in JSON format. \\\n",
    "Do not include Terms of Service, Privacy, email links.\\n\"\n",
    "    user_prompt += \"Links (some might be relative links):\\n\"\n",
    "    user_prompt += \"\\n\".join(website.links)\n",
    "    return user_prompt\n",
    "\n",
    "def get_links(url):\n",
    "    website = Website(url)\n",
    "    response = openai.chat.completions.create(\n",
    "        model=MODEL,\n",
    "        messages=[\n",
    "            {\"role\": \"system\", \"content\": link_system_prompt},\n",
    "            {\"role\": \"user\", \"content\": get_links_user_prompt(website)}\n",
    "      ],\n",
    "        response_format={\"type\": \"json_object\"}\n",
    "    )\n",
    "    result = response.choices[0].message.content\n",
    "    return json.loads(result)"
   ]
  },
  {
   "cell_type": "markdown",
   "id": "3e499fb5-f6b8-471f-8428-42d9fa3b0998",
   "metadata": {},
   "source": [
    "# create brochure function"
   ]
  },
  {
   "cell_type": "code",
   "execution_count": 75,
   "id": "03f09d47-6ea8-44ce-afa1-75b204e26219",
   "metadata": {},
   "outputs": [],
   "source": [
    "# create a function to get details from the links selected by get_links\n",
    "def get_all_details(url):\n",
    "    result = \"Landing page:\\n\"\n",
    "    result += Website(url).get_contents()\n",
    "    links = get_links(url)\n",
    "    print(\"Found links:\", links)\n",
    "    for link in links[\"links\"]:\n",
    "        result += f\"\\n\\n{link['type']}\\n\"\n",
    "        result += Website(link[\"url\"]).get_contents()\n",
    "    return result\n",
    "    \n",
    "# and then those details will be compose into user prompt to create brochure\n",
    "def get_brochure_user_prompt(company_name, url, language=\"English\"):\n",
    "    user_prompt = f\"You are looking at a company called: {company_name}\\n\"\n",
    "    user_prompt += f\"Here are the contents of its landing page and other relevant pages; \\\n",
    "    use this information to build a short {language} brochure of the company in markdown.\\n\"\n",
    "    user_prompt += get_all_details(url)\n",
    "    user_prompt = user_prompt[:5_000] # Truncate if more than 5,000 characters\n",
    "    return user_prompt\n",
    "\n",
    "# put the two function above together\n",
    "def create_brochure(company_name, url, language=\"English\", tone =\"humorous, entertaining, jokey\"):\n",
    "    system_prompt = f\"\"\"You are an assistant that analyzes the contents of several relevant pages from a company website \\\n",
    "    and creates a {tone} about the company for prospective customers, investors and recruits. Respond in markdown.\\\n",
    "    Include details of company culture, customers, product pricing and careers/jobs if you have the information.\n",
    "\n",
    "    \"\"\"\n",
    "\n",
    "    stream= openai.chat.completions.create(\n",
    "        model=MODEL,\n",
    "        messages=[\n",
    "            {\"role\": \"system\", \"content\": system_prompt},\n",
    "            {\"role\": \"user\", \"content\": get_brochure_user_prompt(company_name, url, language=language)}\n",
    "          ],\n",
    "        stream = True\n",
    "    )\n",
    "    response = \"\"\n",
    "    display_handle = display(Markdown(\"\"), display_id=True)\n",
    "    for chunk in stream:\n",
    "        response += chunk.choices[0].delta.content or ''\n",
    "        response = response.replace(\"```\",\"\").replace(\"markdown\", \"\")\n",
    "        update_display(Markdown(response), display_id=display_handle.display_id)"
   ]
  },
  {
   "cell_type": "code",
   "execution_count": 76,
   "id": "6c2bc338-2420-4a35-80af-5907fd04e837",
   "metadata": {},
   "outputs": [
    {
     "name": "stdout",
     "output_type": "stream",
     "text": [
      "Found links: {'links': [{'type': 'about page', 'url': 'https://www.brooklynkids.org/about/'}, {'type': 'careers page', 'url': 'https://www.brooklynkids.org/employment/'}, {'type': 'programs page', 'url': 'https://www.brooklynkids.org/programs/'}, {'type': 'events page', 'url': 'https://www.brooklynkids.org/events/'}, {'type': 'visit page', 'url': 'https://www.brooklynkids.org/visit/'}]}\n"
     ]
    },
    {
     "data": {
      "text/markdown": [
       "# Welcome to the Brooklyn Children's Museum!\n",
       "\n",
       "**Opening Times:**  \n",
       "We’re open today from 10 am–5 pm! (because kids need to learn - and where else can you find adult supervision for your sanity?)\n",
       "\n",
       "---\n",
       "\n",
       "## Who Are We?  \n",
       "At the Brooklyn Children's Museum, we’re not just about playdates; we’re about creating lifelong learners! With a mission to promote culture, education, and art through interactive experiences tailored for the curious minds of Brooklyn's children (and their equally curious parents), we've got your weekend plans covered!\n",
       "\n",
       "### What Do We Offer?\n",
       "- **Exhibits:** Got a little one who loves dinosaurs? Or perhaps they’re into building things? We’ve got you covered with exhibits like Totally Tots and the Nature's Engineers Makerspace.\n",
       "  \n",
       "- **Programs:** STEM education? You bet! Art studios? Absolutely! Join our **ColorLab Art Studio** or the heart-pounding fun in our STEM Makerspace!  \n",
       "\n",
       "- **Seasonal Events:** Don’t miss our exciting **Black Future Festival**! The fun never stops year-round!\n",
       "\n",
       "- **Birthday Parties:** Your kid's birthday deserves to be OFF THE CHARTS! Book one of our party packages for a day they (and you) won’t forget! Cake, fun, and no cleanup for you? Yes, please!\n",
       "\n",
       "---\n",
       "\n",
       "## Pricing \n",
       "- **Tickets:** Bang for your buck - get ready for unlimited exploration for around the cost of a fancy coffee (okay, maybe two)! \n",
       "- **Memberships:** Want to become a frequent flyer at BCM? Get **14% Off All Memberships** during select offers! Why pay for one visit when you can plan at least ten?\n",
       "\n",
       "---\n",
       "\n",
       "## Join Our Community  \n",
       "Become a vital part of our BCM family! \n",
       "\n",
       "- **Careers:** Love teaching and engaging with kids? Why not work where you can inspire little minds and avoid the coffee machine drama? We’re hiring! Trust us, packing snack bags for summer camps is more fun than it sounds.  \n",
       "- **Volunteer:** We also welcome enthusiastic helpers ready to put on a smile, unleash some creativity, and keep the giggles rolling.\n",
       "\n",
       "---\n",
       "\n",
       "## Your Invitation to Fun!  \n",
       "Whether you want to soak up some culture, enjoy a day of meticulously supervised chaos, or just let the kids learn about the world in their own way, the Brooklyn Children's Museum is your ultimate destination.\n",
       "\n",
       "Come explore today, tomorrow, or every day of the week (except Monday & Tuesday - we need a little breathing room)!\n",
       "\n",
       "**Visit us at:**  \n",
       "145 Brooklyn Avenue, Brooklyn, NY 11213, USA  \n",
       "\n",
       "**Follow us on social media:**  \n",
       "Because nothing says “I’m a responsible adult” like sharing your kids’ adventures online!\n",
       "\n",
       "---\n",
       "\n",
       "**See you soon at the BCM — let the imaginative chaos begin!** 🎉✨"
      ],
      "text/plain": [
       "<IPython.core.display.Markdown object>"
      ]
     },
     "metadata": {},
     "output_type": "display_data"
    }
   ],
   "source": [
    "create_brochure(\"Brooklyn children's museum\", \"https://www.brooklynkids.org/\", language=\"English\", tone=\"humorous, entertaining, jokey\")"
   ]
  },
  {
   "cell_type": "code",
   "execution_count": 77,
   "id": "eb637003-f4f0-45a9-8a10-566fe9faa685",
   "metadata": {},
   "outputs": [
    {
     "name": "stdout",
     "output_type": "stream",
     "text": [
      "Found links: {'links': [{'type': 'about page', 'url': 'https://www.brooklynkids.org/about/'}, {'type': 'careers page', 'url': 'https://www.brooklynkids.org/employment/'}, {'type': 'programs page', 'url': 'https://www.brooklynkids.org/programs/'}, {'type': 'visit page', 'url': 'https://www.brooklynkids.org/visit/'}, {'type': 'events page', 'url': 'https://www.brooklynkids.org/events/'}, {'type': 'contact page', 'url': 'https://www.brooklynkids.org/contact/'}]}\n"
     ]
    },
    {
     "data": {
      "text/markdown": [
       "# Brooklyn Children's Museum: Discover, Learn, and Play\n",
       "\n",
       "## About Us\n",
       "The **Brooklyn Children's Museum (BCM)**, established as one of the first children's museums in the United States, is dedicated to engaging children and families in experiential learning through play, creativity, and exploration. Our mission centers around providing a space where children can discover and learn about the world around them.\n",
       "\n",
       "## Our Offerings\n",
       "At BCM, we promote interactive education through a variety of exhibits and programs:\n",
       "- **Exhibits**: Our engaging exhibits, including \"Totally Tots,\" \"AirMaze,\" and \"Neighborhood Nature,\" inspire curiosity and hands-on interaction.\n",
       "- **Art & STEM Programs**: Join us at the **ColorLab Art Studio** or the **STEM Makerspace** for innovative art projects and scientific exploration.\n",
       "- **Movie Screenings**: Enjoy family-friendly movies and cartoons on designated days.\n",
       "- **Parties & Rentals**: Celebrate birthdays and special events in a fun and engaging environment.\n",
       "\n",
       "## Education Programs\n",
       "BCM offers various educational programs for schools, private classes, and summer camps. Our programs include:\n",
       "- **School Visits**: Tailored school trips that merge fun and education.\n",
       "- **After School and Teen Programs**: Activities designed to inspire creativity and collaboration.\n",
       "- **BCM @ Home**: Activity kits and resources to extend learning beyond the museum.\n",
       "\n",
       "## Culture and Community\n",
       "The Brooklyn Children's Museum prides itself on fostering an inclusive and welcoming environment. We aim to:\n",
       "- Encourage creativity and self-expression among children,\n",
       "- Embrace diversity and support cultural dialogue,\n",
       "- Engage families in educational and fun activities together.\n",
       "\n",
       "## Membership and Pricing\n",
       "Become a BCM member for unlimited free admission and year-round access to special events and programs. Memberships are available at various levels to accommodate all families.\n",
       "\n",
       "- **General Admission**: Check our website for current pricing and potential discounts.\n",
       "- **Membership Discounts**: Take advantage of periodic promotions, such as 14% off all memberships, as seen during our events.\n",
       "\n",
       "## Careers at BCM\n",
       "At Brooklyn Children’s Museum, we’re always looking for passionate individuals to join our team. Positions vary from educational programming to operational roles. For employment opportunities, visit our **[Career page](#)** for current listings and application details.\n",
       "\n",
       "## Visit Us\n",
       "We invite you to bring your family and friends to the Brooklyn Children's Museum and experience the joy of learning through play. We are located at:\n",
       "\n",
       "**145 Brooklyn Avenue, Brooklyn, NY 11213, USA**  \n",
       "**Hours of Operation**:  \n",
       "Wednesday to Sunday: 10 AM - 5 PM  \n",
       "Closed on Monday and Tuesday  \n",
       "\n",
       "## Stay Connected\n",
       "Join the BCM community by subscribing to our newsletter for the latest updates and programs. We are excited to welcome you to a world of discovery and fun!\n",
       "\n",
       "---\n",
       "\n",
       "For more information, please visit our website at [Brooklyn Children's Museum](#) or contact us via the **Contact Us** page."
      ],
      "text/plain": [
       "<IPython.core.display.Markdown object>"
      ]
     },
     "metadata": {},
     "output_type": "display_data"
    }
   ],
   "source": [
    "create_brochure(\"Brooklyn children's museum\", \"https://www.brooklynkids.org/\", language=\"English\", tone=\"formal\")"
   ]
  },
  {
   "cell_type": "code",
   "execution_count": 78,
   "id": "53fdf46d-15f5-4d4d-bf61-13813e359761",
   "metadata": {},
   "outputs": [
    {
     "name": "stdout",
     "output_type": "stream",
     "text": [
      "Found links: {'links': [{'type': 'about page', 'url': 'https://www.brooklynkids.org/about/'}, {'type': 'careers page', 'url': 'https://www.brooklynkids.org/employment/'}, {'type': 'programs page', 'url': 'https://www.brooklynkids.org/programs/'}, {'type': 'visit page', 'url': 'https://www.brooklynkids.org/visit/'}]}\n"
     ]
    },
    {
     "data": {
      "text/markdown": [
       "\n",
       "# 布鲁克林儿童博物馆简介\n",
       "\n",
       "**欢迎来到布鲁克林儿童博物馆！** 我们是一个专为儿童设计的互动博物馆，提供丰富的教育和娱乐活动，适合各个年龄段的家庭。我们的使命是通过创新的展览和丰富多彩的项目，激发儿童的好奇心和创造力。\n",
       "\n",
       "## 公司文化\n",
       "布鲁克林儿童博物馆致力于创造一个包容、乐趣和学习相结合的环境。我们培养社区意识，鼓励家庭积极参与实验、艺术和科学活动。我们的团队由热情洋溢的教育工作者、艺术家和专业人士组成，他们共同努力，为儿童提供最佳的学习体验。\n",
       "\n",
       "## 客户群体\n",
       "我们的主要客户是家庭和学校。我们欢迎大大小小的孩子来探索博物馆的各种展览、参加教育项目和享受特殊活动。此外，我们也为学校团体提供定制的学习访问，以增强课堂教学的效果。\n",
       "\n",
       "## 产品与定价\n",
       "布鲁克林儿童博物馆提供多种票价选项和会员计划：\n",
       "\n",
       "- **日票**：一般入场票可在线或现场购买。\n",
       "- **会员**：成为会员可享受免费进入博物馆的一年期，体验各种家庭活动和展览。\n",
       "- **特别活动和生日派对**：提供多种空间租赁和定制生日派对服务。\n",
       "\n",
       "我们现在进行14% 的会员折扣促销活动，欢迎加入我们的社区！\n",
       "\n",
       "## 职业与就业机会\n",
       "我们欢迎热爱教育和儿童发展的专业人士加入我们。布鲁克林儿童博物馆提供多样的职业发展机会，包括教育工作者、程序协调员和志愿者职位。我们希望吸引那些充满热情、愿意在动态环境中工作的应聘者。\n",
       "\n",
       "## 访问信息\n",
       "- **地址**：145 Brooklyn Avenue, Brooklyn, NY 11213, USA\n",
       "- **开放时间**：周三至周日，10:00 am - 5:00 pm；周一和周二闭馆。\n",
       "\n",
       "**加入我们，探索知识的乐趣！** 了解更多信息请访问我们的网站或联系我们。\n",
       "\n",
       "**联系我们**: [布鲁克林儿童博物馆官方网站](https://www.brooklynkids.org)\n",
       "\n",
       "\n"
      ],
      "text/plain": [
       "<IPython.core.display.Markdown object>"
      ]
     },
     "metadata": {},
     "output_type": "display_data"
    }
   ],
   "source": [
    "create_brochure(\"Brooklyn children's museum\", \"https://www.brooklynkids.org/\", language=\"Chinese\", tone=\"formal\")"
   ]
  },
  {
   "cell_type": "code",
   "execution_count": null,
   "id": "d68d52ea-6039-4a51-847f-d034de80e976",
   "metadata": {},
   "outputs": [],
   "source": []
  }
 ],
 "metadata": {
  "kernelspec": {
   "display_name": "Python 3 (ipykernel)",
   "language": "python",
   "name": "python3"
  },
  "language_info": {
   "codemirror_mode": {
    "name": "ipython",
    "version": 3
   },
   "file_extension": ".py",
   "mimetype": "text/x-python",
   "name": "python",
   "nbconvert_exporter": "python",
   "pygments_lexer": "ipython3",
   "version": "3.11.11"
  }
 },
 "nbformat": 4,
 "nbformat_minor": 5
}
