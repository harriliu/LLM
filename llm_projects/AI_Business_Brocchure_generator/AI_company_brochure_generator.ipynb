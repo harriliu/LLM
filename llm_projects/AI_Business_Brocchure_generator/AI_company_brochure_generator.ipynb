{
 "cells": [
  {
   "cell_type": "markdown",
   "id": "4ca5da07-a607-4615-9cc5-710cf8d79b5b",
   "metadata": {},
   "source": [
    "# AI Business Brochure Generator\n",
    "\n",
    "- This project use Multi-shot prompting where you provide multiple examples of input-output pairs to help an AI model better understand the pattern or task you want it to perform. Instead of just giving one example (single-shot) or no examples (zero-shot).\n",
    "- This function allows user to select different language and tones"
   ]
  },
  {
   "cell_type": "code",
   "execution_count": 1,
   "id": "f75fc33e-1e87-4ea7-9163-68417526436c",
   "metadata": {},
   "outputs": [],
   "source": [
    "import os\n",
    "import requests\n",
    "import json\n",
    "from typing import List\n",
    "from dotenv import load_dotenv\n",
    "from bs4 import BeautifulSoup\n",
    "from IPython.display import Markdown, display, update_display\n",
    "from openai import OpenAI\n",
    "import gradio as gr "
   ]
  },
  {
   "cell_type": "code",
   "execution_count": 2,
   "id": "0f61c609-be55-48db-b3e1-a20c0e13bd8a",
   "metadata": {},
   "outputs": [],
   "source": [
    "load_dotenv(override=True)\n",
    "api_key = os.getenv('OPENAI_API_KEY')"
   ]
  },
  {
   "cell_type": "code",
   "execution_count": 3,
   "id": "c5ab86e6-3bff-4eea-86de-41e417412908",
   "metadata": {},
   "outputs": [],
   "source": [
    "MODEL = 'gpt-4o-mini'\n",
    "openai = OpenAI()"
   ]
  },
  {
   "cell_type": "code",
   "execution_count": 4,
   "id": "f30fcddf-c071-4fa0-9cc2-3f2d7c9c3853",
   "metadata": {},
   "outputs": [],
   "source": [
    "# A class to represent a Webpage\n",
    "\n",
    "# Some websites need you to use proper headers when fetching them:\n",
    "headers = {\n",
    " \"User-Agent\": \"Mozilla/5.0 (Windows NT 10.0; Win64; x64) AppleWebKit/537.36 (KHTML, like Gecko) Chrome/117.0.0.0 Safari/537.36\"\n",
    "}\n",
    "\n",
    "class Website:\n",
    "    \"\"\"\n",
    "    A utility class to represent a Website that we have scraped, now with links\n",
    "    \"\"\"\n",
    "\n",
    "    def __init__(self, url):\n",
    "        self.url = url\n",
    "        response = requests.get(url, headers=headers)\n",
    "        self.body = response.content\n",
    "        soup = BeautifulSoup(self.body, 'html.parser')\n",
    "        self.title = soup.title.string if soup.title else \"No title found\"\n",
    "        if soup.body:\n",
    "            for irrelevant in soup.body([\"script\", \"style\", \"img\", \"input\"]):\n",
    "                irrelevant.decompose()\n",
    "            self.text = soup.body.get_text(separator=\"\\n\", strip=True)\n",
    "        else:\n",
    "            self.text = \"\"\n",
    "        links = [link.get('href') for link in soup.find_all('a')]\n",
    "        self.links = [link for link in links if link]\n",
    "\n",
    "    def get_contents(self):\n",
    "        return f\"Webpage Title:\\n{self.title}\\nWebpage Contents:\\n{self.text}\\n\\n\""
   ]
  },
  {
   "cell_type": "code",
   "execution_count": 5,
   "id": "409a4aba-c621-4ebf-9161-a919d9a9cb1d",
   "metadata": {},
   "outputs": [],
   "source": [
    "website_provided = Website(\"https://www.brooklynkids.org/\")"
   ]
  },
  {
   "cell_type": "code",
   "execution_count": 6,
   "id": "8cca536b-b328-4837-9b59-c4a9734db68a",
   "metadata": {},
   "outputs": [
    {
     "data": {
      "text/plain": [
       "['#content',\n",
       " '/calendar',\n",
       " 'https://www.brooklynkids.org',\n",
       " 'https://www.brooklynkids.org/visit/',\n",
       " 'https://www.brooklynkids.org/visit/',\n",
       " 'https://www.brooklynkids.org/faq/',\n",
       " '/exhibit-type/permanent/',\n",
       " '/programs/',\n",
       " 'https://www.brooklynkids.org/colorlab/',\n",
       " 'https://www.brooklynkids.org/natures-engineers/',\n",
       " '/events/',\n",
       " 'https://www.brooklynkids.org/movies/',\n",
       " 'https://www.brooklynkids.org/movies/',\n",
       " 'https://www.brooklynkids.org/saturday-morning-cartoons/',\n",
       " 'https://www.brooklynkids.org/birthdays/',\n",
       " 'https://www.brooklynkids.org/birthdays/',\n",
       " 'https://www.brooklynkids.org/space-rentals/',\n",
       " 'https://www.brooklynkids.org/education/',\n",
       " 'https://www.brooklynkids.org/education/',\n",
       " 'https://www.brooklynkids.org/school-visits/',\n",
       " 'https://www.brooklynkids.org/camp-visits/',\n",
       " 'https://www.brooklynkids.org/summer-camp/',\n",
       " 'https://www.brooklynkids.org/museum-on-the-go/',\n",
       " 'https://www.brooklynkids.org/after-school-program/',\n",
       " 'https://www.brooklynkids.org/teens/',\n",
       " 'https://www.brooklynkids.org/bcmyou/',\n",
       " 'https://www.brooklynkids.org/activity-kits/',\n",
       " 'https://www.brooklynkids.org/educator-resources/',\n",
       " 'https://www.brooklynkids.org/about/',\n",
       " 'https://www.brooklynkids.org/about/',\n",
       " 'https://www.brooklynkids.org/collections/',\n",
       " 'https://www.brooklynkids.org/board-staff/',\n",
       " 'https://www.brooklynkids.org/employment/',\n",
       " 'https://www.brooklynkids.org/policies-document/',\n",
       " 'https://www.brooklynkids.org/press/',\n",
       " 'https://www.brooklynkids.org/contact/',\n",
       " '/join',\n",
       " '/give',\n",
       " '/tickets',\n",
       " 'https://www.brooklynkids.org/visit/',\n",
       " 'https://www.brooklynkids.org/visit/',\n",
       " 'https://www.brooklynkids.org/faq/',\n",
       " '/exhibit-type/permanent/',\n",
       " '/programs/',\n",
       " 'https://www.brooklynkids.org/colorlab/',\n",
       " 'https://www.brooklynkids.org/natures-engineers/',\n",
       " '/events/',\n",
       " 'https://www.brooklynkids.org/movies/',\n",
       " 'https://www.brooklynkids.org/movies/',\n",
       " 'https://www.brooklynkids.org/saturday-morning-cartoons/',\n",
       " 'https://www.brooklynkids.org/birthdays/',\n",
       " 'https://www.brooklynkids.org/birthdays/',\n",
       " 'https://www.brooklynkids.org/space-rentals/',\n",
       " 'https://www.brooklynkids.org/education/',\n",
       " 'https://www.brooklynkids.org/education/',\n",
       " 'https://www.brooklynkids.org/school-visits/',\n",
       " 'https://www.brooklynkids.org/camp-visits/',\n",
       " 'https://www.brooklynkids.org/summer-camp/',\n",
       " 'https://www.brooklynkids.org/museum-on-the-go/',\n",
       " 'https://www.brooklynkids.org/after-school-program/',\n",
       " 'https://www.brooklynkids.org/teens/',\n",
       " 'https://www.brooklynkids.org/bcmyou/',\n",
       " 'https://www.brooklynkids.org/activity-kits/',\n",
       " 'https://www.brooklynkids.org/educator-resources/',\n",
       " 'https://www.brooklynkids.org/about/',\n",
       " 'https://www.brooklynkids.org/about/',\n",
       " 'https://www.brooklynkids.org/collections/',\n",
       " 'https://www.brooklynkids.org/board-staff/',\n",
       " 'https://www.brooklynkids.org/employment/',\n",
       " 'https://www.brooklynkids.org/policies-document/',\n",
       " 'https://www.brooklynkids.org/press/',\n",
       " 'https://www.brooklynkids.org/contact/',\n",
       " '/join',\n",
       " '/give',\n",
       " 'https://www.brooklynkids.org/programs/black-future-festival/',\n",
       " 'https://www.brooklynkids.org/exhibits/in-the-works/',\n",
       " 'https://www.brooklynkids.org/exhibits/artrink/',\n",
       " 'https://www.brooklynkids.org/natures-engineers/',\n",
       " 'https://www.brooklynkids.org/movies/',\n",
       " '/programs',\n",
       " '/join',\n",
       " '/events/',\n",
       " 'https://www.brooklynkids.org/events/play-session-4-2025-02-23/',\n",
       " 'https://www.brooklynkids.org/events/hands-on-collections-2025-02-23/',\n",
       " 'https://www.brooklynkids.org/events/play-at-bcm-2025-02-26/',\n",
       " 'https://www.brooklynkids.org/events/play-at-bcm-3-2025-02-27/',\n",
       " 'https://www.brooklynkids.org/events/amazon-free-hours-2025-02-27/',\n",
       " '/exhibit-type/permanent/',\n",
       " 'https://www.brooklynkids.org/exhibits/in-the-works/',\n",
       " 'https://www.brooklynkids.org/exhibits/artrink/',\n",
       " 'https://www.brooklynkids.org/exhibits/airmaze/',\n",
       " 'https://www.brooklynkids.org/exhibits/totally-tots/',\n",
       " 'https://www.brooklynkids.org/exhibits/the-nest/',\n",
       " 'https://www.brooklynkids.org/exhibits/neighborhood-nature/',\n",
       " '/birthdays',\n",
       " '/school-visits/',\n",
       " 'https://www.facebook.com/BrooklynChildrensMuseum',\n",
       " 'https://www.instagram.com/bcmkids/',\n",
       " 'https://twitter.com/BrooklynKids',\n",
       " 'https://www.linkedin.com/company/brooklynkids',\n",
       " '/tickets',\n",
       " '/join',\n",
       " '/give',\n",
       " '/calendar',\n",
       " '/school-visits',\n",
       " '/birthdays',\n",
       " '/movies',\n",
       " '#',\n",
       " '#']"
      ]
     },
     "execution_count": 6,
     "metadata": {},
     "output_type": "execute_result"
    }
   ],
   "source": [
    "website_provided.links"
   ]
  },
  {
   "cell_type": "markdown",
   "id": "c69e77a1-1929-454c-8ae1-de00a5633eef",
   "metadata": {},
   "source": [
    "# Link selection section\n",
    "### As you can see there are many link in a given website, let's create a block of fucntion to ask GPT which link is relevant\n"
   ]
  },
  {
   "cell_type": "code",
   "execution_count": 7,
   "id": "450c19fe-734c-49c7-94ed-56129d37bc29",
   "metadata": {},
   "outputs": [],
   "source": [
    "# create a prompt to allow GPT to decide which link from the website is relevant to create a company brochure\n",
    "link_system_prompt = \"You are provided with a list of links found on a webpage. \\\n",
    "You are able to decide which of the links would be most relevant to include in a brochure about the company, \\\n",
    "such as links to an About page, or a Company page, or Careers/Jobs pages or Pricing of product/service.\\n\"\n",
    "link_system_prompt += \"You should respond in JSON as in this example:\"\n",
    "link_system_prompt += \"\"\"\n",
    "{\n",
    "    \"links\": [\n",
    "        {\"type\": \"about page\", \"url\": \"https://full.url/goes/here/about\"},\n",
    "        {\"type\": \"careers page\": \"url\": \"https://another.full.url/careers\"}\n",
    "    ]\n",
    "}\n",
    "\"\"\"\n",
    "def get_links_user_prompt(website):\n",
    "    user_prompt = f\"Here is the list of links on the website of {website.url} - \"\n",
    "    user_prompt += \"please decide which of these are relevant web links for a brochure about the company, respond with the full https URL in JSON format. \\\n",
    "Do not include Terms of Service, Privacy, email links.\\n\"\n",
    "    user_prompt += \"Links (some might be relative links):\\n\"\n",
    "    user_prompt += \"\\n\".join(website.links)\n",
    "    return user_prompt\n",
    "\n",
    "def get_links(url):\n",
    "    website = Website(url)\n",
    "    response = openai.chat.completions.create(\n",
    "        model=MODEL,\n",
    "        messages=[\n",
    "            {\"role\": \"system\", \"content\": link_system_prompt},\n",
    "            {\"role\": \"user\", \"content\": get_links_user_prompt(website)}\n",
    "      ],\n",
    "        response_format={\"type\": \"json_object\"}\n",
    "    )\n",
    "    result = response.choices[0].message.content\n",
    "    return json.loads(result)"
   ]
  },
  {
   "cell_type": "markdown",
   "id": "3e499fb5-f6b8-471f-8428-42d9fa3b0998",
   "metadata": {},
   "source": [
    "# create brochure function"
   ]
  },
  {
   "cell_type": "code",
   "execution_count": 8,
   "id": "03f09d47-6ea8-44ce-afa1-75b204e26219",
   "metadata": {},
   "outputs": [],
   "source": [
    "# create a function to get details from the links selected by get_links\n",
    "def get_all_details(url):\n",
    "    result = \"Landing page:\\n\"\n",
    "    result += Website(url).get_contents()\n",
    "    links = get_links(url)\n",
    "    print(\"Found links:\", links)\n",
    "    for link in links[\"links\"]:\n",
    "        result += f\"\\n\\n{link['type']}\\n\"\n",
    "        result += Website(link[\"url\"]).get_contents()\n",
    "    return result\n",
    "    \n",
    "# and then those details will be compose into user prompt to create brochure\n",
    "def get_brochure_user_prompt(company_name, url, language=\"English\"):\n",
    "    user_prompt = f\"You are looking at a company called: {company_name}\\n\"\n",
    "    user_prompt += f\"Here are the contents of its landing page and other relevant pages; \\\n",
    "    use this information to build a short {language} brochure of the company in markdown.\\n\"\n",
    "    user_prompt += get_all_details(url)\n",
    "    user_prompt = user_prompt[:5_000] # Truncate if more than 5,000 characters\n",
    "    return user_prompt\n",
    "\n",
    "# put the two function above together\n",
    "def create_brochure(company_name, url, language=\"English\", tone =\"humorous, entertaining, jokey\"):\n",
    "    system_prompt = f\"\"\"You are an assistant that analyzes the contents of several relevant pages from a company website \\\n",
    "    and creates a {tone} about the company for prospective customers, investors and recruits. Respond in markdown.\\\n",
    "    Include details of company culture, customers, product pricing and careers/jobs if you have the information.\n",
    "\n",
    "    \"\"\"\n",
    "\n",
    "    stream= openai.chat.completions.create(\n",
    "        model=MODEL,\n",
    "        messages=[\n",
    "            {\"role\": \"system\", \"content\": system_prompt},\n",
    "            {\"role\": \"user\", \"content\": get_brochure_user_prompt(company_name, url, language=language)}\n",
    "          ],\n",
    "        stream = True\n",
    "    )\n",
    "    response = \"\"\n",
    "    display_handle = display(Markdown(\"\"), display_id=True)\n",
    "    for chunk in stream:\n",
    "        response += chunk.choices[0].delta.content or ''\n",
    "        response = response.replace(\"```\",\"\").replace(\"markdown\", \"\")\n",
    "        update_display(Markdown(response), display_id=display_handle.display_id)"
   ]
  },
  {
   "cell_type": "code",
   "execution_count": 9,
   "id": "6c2bc338-2420-4a35-80af-5907fd04e837",
   "metadata": {},
   "outputs": [
    {
     "name": "stdout",
     "output_type": "stream",
     "text": [
      "Found links: {'links': [{'type': 'about page', 'url': 'https://www.brooklynkids.org/about/'}, {'type': 'careers page', 'url': 'https://www.brooklynkids.org/employment/'}, {'type': 'pricing page', 'url': 'https://www.brooklynkids.org/tickets/'}, {'type': 'programs page', 'url': 'https://www.brooklynkids.org/programs/'}, {'type': 'contact page', 'url': 'https://www.brooklynkids.org/contact/'}]}\n"
     ]
    },
    {
     "data": {
      "text/markdown": [
       "# Welcome to the Brooklyn Children's Museum!\n",
       "\n",
       "### 🌟 Who Are We? 🌟\n",
       "Located in the wonderful (and slightly quirky) Brooklyn, we are the Brooklyn Children’s Museum, the OG of children’s museums! Established way back in 1899, we pride ourselves on being a place to *play*, *learn*, and *discover*! Our mission is to inspire curiosity and creativity in children and families—because why should only adults have all the fun?\n",
       "\n",
       "### 🎠 Our Attractions 🎠\n",
       "- **Exhibits**: Get ready for mind-blowing adventure in our interactive exhibits, where every day feels like a holiday! Explore the *Totally Tots* area, where no one is too small to have big fun! \n",
       "- **ColorLab Art Studio**: Unleash your inner Picasso and leave the mess to us!  \n",
       "- **STEM Makerspace**: Science? Technology? Engineering? Math? All in one place! Think of it as Hogwarts, but for future scientists and inventors. \n",
       "- **Movies & Cartoons**: Sit back, relax, and enjoy films that will make you laugh, cry, and everything in-between (in the best possible way).\n",
       "\n",
       "### 🎉 **Birthday Bashes & Rentals Galore!** 🎉\n",
       "Celebrating another trip around the sun? BCM is the perfect place for birthday parties! We promise fun so big you’ll need a map to navigate it! Plus, if you happen to be thinking about renting space for an event, we’ve got flexibility that would put yoga instructors to shame!\n",
       "\n",
       "### 💰 **Membership & Pricing** 💰\n",
       "Why pay for one visit when you can spend the whole year hanging out with us? Join the BCM family with our membership deals! And for a limited time, memberships are 14% off—so hurry up and snag one before we start celebrating with confetti!\n",
       "\n",
       "### 🌍 **Where to Find Us** 🌍\n",
       "- **Address**: 145 Brooklyn Avenue, Brooklyn, NY 11213, USA  \n",
       "- **Hours**: Wednesday-Sunday: 10 AM – 5 PM (Monday and Tuesday we rest—because even museums need a spa day!)\n",
       "\n",
       "### 🎓 **Careers & Community** 🎓\n",
       "Want to be a part of a place where magic happens every day? We’re always looking for vibrant individuals to join our team! If you have a love for children, a knack for creativity, and a talent for dodging flying LEGO pieces, apply today!\n",
       "\n",
       "---\n",
       "\n",
       "### 👀 **In Conclusion:**\n",
       "So, whether you're looking for a fun family day out, an exciting place to host an event, or a position that keeps you young at heart, the Brooklyn Children's Museum welcomes you with open arms. Come visit us and experience the wonder—after all, we believe that the more you play, the more you learn (and the more fun you have)!\n",
       "\n",
       "See you soon! 🎈"
      ],
      "text/plain": [
       "<IPython.core.display.Markdown object>"
      ]
     },
     "metadata": {},
     "output_type": "display_data"
    }
   ],
   "source": [
    "create_brochure(\"Brooklyn children's museum\", \"https://www.brooklynkids.org/\", language=\"English\", tone=\"humorous, entertaining, jokey\")"
   ]
  },
  {
   "cell_type": "code",
   "execution_count": 10,
   "id": "eb637003-f4f0-45a9-8a10-566fe9faa685",
   "metadata": {},
   "outputs": [
    {
     "name": "stdout",
     "output_type": "stream",
     "text": [
      "Found links: {'links': [{'type': 'about page', 'url': 'https://www.brooklynkids.org/about/'}, {'type': 'careers page', 'url': 'https://www.brooklynkids.org/employment/'}, {'type': 'company page', 'url': 'https://www.brooklynkids.org/'}, {'type': 'programs page', 'url': 'https://www.brooklynkids.org/programs/'}, {'type': 'visit page', 'url': 'https://www.brooklynkids.org/visit/'}]}\n"
     ]
    },
    {
     "data": {
      "text/markdown": [
       "# Brooklyn Children's Museum\n",
       "\n",
       "**Welcome to Brooklyn Children's Museum**  \n",
       "Where learning and fun go hand in hand! \n",
       "\n",
       "---\n",
       "\n",
       "## **About Us**\n",
       "\n",
       "Founded in 1899, the Brooklyn Children's Museum is the first children's museum in the world. Our mission is to inspire the curiosity and creativity of children and families through dynamic exhibitions, educational programs, and community outreach initiatives. We believe in the transformative power of play and discovery that fosters lifelong learning.\n",
       "\n",
       "### **Culture**\n",
       "\n",
       "At BCM, we foster an inclusive and engaging environment that values creativity, diversity, and community engagement. Our staff is dedicated to creating memorable experiences that celebrate learning and exploration. We prioritize a child-centered approach, ensuring that both children and their families feel welcome and excited to discover the world around them.\n",
       "\n",
       "## **Our Offerings**\n",
       "\n",
       "### **Exhibits**\n",
       "Explore a variety of interactive exhibits such as:\n",
       "- **Totally Tots**: A safe space for our youngest explorers.\n",
       "- **Neighborhood Nature**: Discover the beauty of the natural world.\n",
       "- **AirMaze**: An innovative play area that challenges and educates.\n",
       "\n",
       "### **Education Programs**\n",
       "We offer a variety of educational programs, including:\n",
       "- **School Visits**\n",
       "- **Summer Camp Program**\n",
       "- **After School Programs**\n",
       "- **BCM @ Home Activity Kits**\n",
       "\n",
       "### **Events & Activities**\n",
       "Join us for numerous events like:\n",
       "- **Black Future Festival**\n",
       "- **Community Access Thursdays**\n",
       "\n",
       "## **Pricing and Memberships**\n",
       "\n",
       "- **Ticket Prices**: Visit our website for detailed pricing.\n",
       "- **Membership**: Become a member to enjoy unlimited visits and exclusive events. Take advantage of our current promotion of 14% off all memberships (available for a limited time)!\n",
       "\n",
       "## **Careers at BCM**\n",
       "\n",
       "We are always looking for passionate individuals to join our team. Explore a variety of roles in education, operations, and visitor services. BCM is committed to professional development and offers resources for employee growth.\n",
       "\n",
       "---\n",
       "\n",
       "## **Visit Us**\n",
       "\n",
       "**Location**:  \n",
       "Brooklyn Children’s Museum  \n",
       "145 Brooklyn Avenue, Brooklyn, NY 11213, USA  \n",
       "\n",
       "**Hours**:  \n",
       "Wednesday to Sunday: 10 am – 5 pm  \n",
       "Closed Monday and Tuesday  \n",
       "\n",
       "---\n",
       "\n",
       "## **Get in Touch**\n",
       "\n",
       "For more information, visit our website or contact us through email or phone. Don't forget to **join** our mailing list for updates on upcoming events and special offers!\n",
       "\n",
       "**[Website](https://www.brooklynkids.org)**  \n",
       "**Phone**: (Insert Phone Number)  \n",
       "**Email**: (Insert Email Address)  \n",
       "\n",
       "**Join us at BCM, where curiosity blossoms into lifelong memories!**  \n"
      ],
      "text/plain": [
       "<IPython.core.display.Markdown object>"
      ]
     },
     "metadata": {},
     "output_type": "display_data"
    }
   ],
   "source": [
    "create_brochure(\"Brooklyn children's museum\", \"https://www.brooklynkids.org/\", language=\"English\", tone=\"formal\")"
   ]
  },
  {
   "cell_type": "code",
   "execution_count": 11,
   "id": "53fdf46d-15f5-4d4d-bf61-13813e359761",
   "metadata": {},
   "outputs": [
    {
     "name": "stdout",
     "output_type": "stream",
     "text": [
      "Found links: {'links': [{'type': 'about page', 'url': 'https://www.brooklynkids.org/about/'}, {'type': 'careers page', 'url': 'https://www.brooklynkids.org/employment/'}, {'type': 'programs page', 'url': 'https://www.brooklynkids.org/programs/'}, {'type': 'visit page', 'url': 'https://www.brooklynkids.org/visit/'}, {'type': 'contact page', 'url': 'https://www.brooklynkids.org/contact/'}]}\n"
     ]
    },
    {
     "data": {
      "text/markdown": [
       "\n",
       "# 布鲁克林儿童博物馆简介\n",
       "\n",
       "欢迎来到布鲁克林儿童博物馆，一个充满乐趣和学习机会的地方！我们致力于为儿童和家庭提供丰富多彩的展览、教育项目和互动体验。\n",
       "\n",
       "## 我们的使命\n",
       "布鲁克林儿童博物馆的使命是通过探索和发现，激发儿童对文化、艺术和科学的好奇心。我们相信通过实践学习和玩耍，儿童能够更好地理解世界。\n",
       "\n",
       "## 主要展览与项目\n",
       "- **ColorLab艺术工作室**: 让孩子们进行创造性的艺术探索，激发他们的想象力。\n",
       "- **STEM创客空间**: 专为年轻科学家和工程师设计，提升他们在科学、技术、工程和数学方面的技巧。\n",
       "- **Totally Tots**: 特别为幼儿打造的互动小天地。\n",
       "- **邻里自然展**: 与社区的自然环境亲密接触，拓宽孩子们对自然的理解。\n",
       "\n",
       "## 活动与租赁服务\n",
       "我们提供丰富的活动策划，包括适合所有年龄段的生日派对和空间租赁服务。无论是个人庆祝还是学校团体活动，我们都能提供完美的场地！\n",
       "\n",
       "## 实惠的票价和会员计划\n",
       "- **单日门票**: 有竞争力的定价，确保所有家庭都能在经济上负担得起。\n",
       "- **会员计划**: 加入我们，享受年度无限制免费入馆、独家活动和特别优惠。\n",
       "\n",
       "## 工作机会\n",
       "我们欢迎热爱教育与儿童发展的专业人士加入我们的团队。可浏览我们的[招聘页面](链接)了解更多信息。\n",
       "\n",
       "## 公司文化\n",
       "在布鲁克林儿童博物馆，我们倡导包容多样的文化环境。我们重视每一位员工的声音，并鼓励团队合作，共同创造积极和富有创意的工作氛围。\n",
       "\n",
       "## 联系我们\n",
       "地址: 布鲁克林大道145号，布鲁克林，纽约 11213  \n",
       "电话: 请访问我们的[官方网站](链接)获取更多信息。  \n",
       "来访时间: 每周三至周日 早上10点至下午5点（周一及周二闭馆）。\n",
       "\n",
       "感谢您支持布鲁克林儿童博物馆，期待您的光临与参与！\n",
       "\n",
       "---\n",
       "\n"
      ],
      "text/plain": [
       "<IPython.core.display.Markdown object>"
      ]
     },
     "metadata": {},
     "output_type": "display_data"
    }
   ],
   "source": [
    "create_brochure(\"Brooklyn children's museum\", \"https://www.brooklynkids.org/\", language=\"Chinese\", tone=\"formal\")"
   ]
  },
  {
   "cell_type": "code",
   "execution_count": 12,
   "id": "d68d52ea-6039-4a51-847f-d034de80e976",
   "metadata": {},
   "outputs": [
    {
     "name": "stdout",
     "output_type": "stream",
     "text": [
      "Found links: {'links': [{'type': 'about page', 'url': 'https://www.brooklynkids.org/about/'}, {'type': 'careers page', 'url': 'https://www.brooklynkids.org/employment/'}, {'type': 'programs page', 'url': 'https://www.brooklynkids.org/programs/'}, {'type': 'visit page', 'url': 'https://www.brooklynkids.org/visit/'}]}\n"
     ]
    },
    {
     "data": {
      "text/markdown": [
       "# Brooklyn Children's Museum: A World of Learning and Fun for Every Child\n",
       "\n",
       "## About Us\n",
       "The **Brooklyn Children's Museum** (BCM) is a vibrant, interactive space designed to spark curiosity and creativity in children of all ages. Established with a mission to enrich the lives of children through learning and play, our museum offers a range of engaging exhibits and educational programs.\n",
       "\n",
       "## Our Values and Culture\n",
       "At BCM, we believe in fostering a fun and inclusive environment where children can explore, create, and learn. Our commitment to diversity and accessibility is reflected in our programs, ensuring every child feels welcome and valued. We strive to be a community hub that empowers families and encourages lifelong learning.\n",
       "\n",
       "## What We Offer\n",
       "### Exhibits\n",
       "- **ArtRink**: A space where artistic expression comes to life.\n",
       "- **Neighborhood Nature**: An interactive exploration of local ecology.\n",
       "- **Totally Tots**: Designed especially for young explorers.\n",
       "\n",
       "### Programs\n",
       "- **ColorLab Art Studio**: Hands-on art activities for all ages.\n",
       "- **STEM Makerspace**: A creative space promoting science and technology through interactive experiences.\n",
       "- **Community Access Thursdays**: Offering special access to exhibits and programs for everyone.\n",
       "\n",
       "### Educational Opportunities\n",
       "Our education initiatives include:\n",
       "- **School Visits**: Tailored experiences for classes, rich in learning and fun.\n",
       "- **Summer Camp Program**: Engaging summer activities for young learners.\n",
       "- **BCM @ Home**: Activity kits designed for continued learning outside the museum.\n",
       "\n",
       "## Special Events\n",
       "Join us for various events throughout the year, including the **Black Future Festival** and themed movie screenings! Check our calendar for upcoming activities.\n",
       "\n",
       "## Pricing and Membership\n",
       "Become a member to enjoy unlimited visits and family events throughout the year. We currently offer a limited-time **14% off all memberships** – a fantastic opportunity for families to get involved and make the most of what BCM has to offer!\n",
       "\n",
       "## Work With Us\n",
       "If you’re passionate about education and children’s development, consider a career at BCM. We offer various employment and internship opportunities where you can make a meaningful impact.\n",
       "\n",
       "## Visit Us\n",
       "We’re open  \n",
       "**Wednesday to Sunday, 10 am - 5 pm**  \n",
       "**Location**: 145 Brooklyn Avenue, Brooklyn, NY 11213, USA\n",
       "\n",
       "### Contact Us\n",
       "For more information about our activities, programs, or membership, visit our website or reach out to our friendly staff. We look forward to welcoming you to the Brooklyn Children's Museum!\n",
       "\n",
       "---\n",
       "\n",
       "### Join the BCM Community\n",
       "Experience the joy of discovery and the excitement of learning at the Brooklyn Children's Museum. Together, let’s inspire the next generation!"
      ],
      "text/plain": [
       "<IPython.core.display.Markdown object>"
      ]
     },
     "metadata": {},
     "output_type": "display_data"
    }
   ],
   "source": [
    "create_brochure(\"Brooklyn children's museum\", \"https://www.brooklynkids.org/\", language=\"Thai\", tone=\"formal\")"
   ]
  },
  {
   "cell_type": "code",
   "execution_count": 13,
   "id": "f05bb34a-6696-4961-80c6-f8f9253e8b13",
   "metadata": {},
   "outputs": [
    {
     "name": "stdout",
     "output_type": "stream",
     "text": [
      "Found links: {'links': [{'type': 'about page', 'url': 'https://www.brooklynkids.org/about/'}, {'type': 'careers page', 'url': 'https://www.brooklynkids.org/employment/'}, {'type': 'visit page', 'url': 'https://www.brooklynkids.org/visit/'}, {'type': 'programs page', 'url': 'https://www.brooklynkids.org/programs/'}, {'type': 'contact page', 'url': 'https://www.brooklynkids.org/contact/'}]}\n"
     ]
    },
    {
     "data": {
      "text/markdown": [
       "\n",
       "# Discover the Brooklyn Children's Museum! 🎈\n",
       "\n",
       "### The Ultimate Playground of Learning and Fun!\n",
       "\n",
       "Welcome to the Brooklyn Children's Museum (BCM), where imagination takes flight, and every visit is a new adventure! Located at 145 Brooklyn Avenue, the museum opens its doors (and its heart) to kids and families from Wednesday to Sunday, 10 AM to 5 PM. So grab your little Einsteins and prepare for a day packed with exploration!\n",
       "\n",
       "---\n",
       "\n",
       "## 🧩 **What’s Inside?**\n",
       "\n",
       "**Exhibit Extravaganza!**  \n",
       "Dive into our **ColorLab Art Studio**, where creativity knows no bounds! Unleash your inner Picasso while experimenting with colors and textures like a true artist.  \n",
       "For the little builders, our **STEM Makerspace** is a wonderland filled with puzzles, robotics, and all things science-y! Just a warning: Most visitors leave in a flurry of glitter and genius!\n",
       "\n",
       "**Don't miss our crowd favorites:**\n",
       "- **Totally Tots**: A toddler paradise!\n",
       "- **Neighborhood Nature**: Outdoor fun without the bugs!\n",
       "\n",
       "---\n",
       "\n",
       "## 🌟 **Celebrate at BCM!**\n",
       "\n",
       "Feeling like throwing a party with the finest festivities? Our birthday parties are the talk of the town! Whether baby or big kids, we have packages as colorful as a birthday cake. Your guests will leave with hearts full of joy and hands full of goody bags. 🎂\n",
       "\n",
       "---\n",
       "\n",
       "## 🎓 **Learning - It's Not Just for Grown-Ups!**\n",
       "\n",
       "In addition to fun, we take education seriously! Kids can immerse themselves in hands-on learning through our:\n",
       "- **School Visits**: Transform a day of regular classes into an exciting adventure!\n",
       "- **Summer Camp Program**: A perfect mix of learning and play for those sun-soaked days! ☀️\n",
       "\n",
       "\n",
       "\n",
       "---\n",
       "\n",
       "## 💰 **Membership Perks!**\n",
       "\n",
       "Want a year-long pass to fun? Become a BCM member and enjoy UNLIMITED free admission, special events, and exclusive discounts! *Pssst… right now, you can grab a 14% OFF membership!*\n",
       "\n",
       "---\n",
       "\n",
       "## 👨‍👩‍👧 **Our Family Culture**\n",
       "\n",
       "At BCM, we’re like a big, happy family! 🎉 Our staff is dedicated to creating a warm, inviting atmosphere where both kids and parents can feel excited to explore, learn, and grow together. We believe in the power of play as a serious business, and we want YOU to be part of our playful community!\n",
       "\n",
       "---\n",
       "\n",
       "## 📢 **Join Us!**\n",
       "\n",
       "Have experience in education or want to learn? We're often on the lookout for enthusiastic new team members! Check our employment page for opportunities to become a BCM superstar!\n",
       "\n",
       "**Contact Us:** For more information or to book your spot for a visit, contact us at [contact@brooklynchildrensmuseum.org](mailto:contact@brooklynchildrensmuseum.org). \n",
       "\n",
       "---\n",
       "\n",
       "So, what are you waiting for? Come play, create, and learn at the Brooklyn Children's Museum—where every day is a new adventure! **We can't wait to meet YOU!**\n",
       "\n",
       "---\n",
       "*Follow us on this adventure by subscribing to our newsletter for updates on events, discounts, and more!*\n"
      ],
      "text/plain": [
       "<IPython.core.display.Markdown object>"
      ]
     },
     "metadata": {},
     "output_type": "display_data"
    }
   ],
   "source": [
    "create_brochure(\"Brooklyn children's museum\", \"https://www.brooklynkids.org/\", language=\"Thai\", tone=\"playful, humorous, entertaining\")"
   ]
  },
  {
   "cell_type": "markdown",
   "id": "2048a91a-6dc7-4929-b204-675dd27324f9",
   "metadata": {},
   "source": [
    "# updates: Add Web UI "
   ]
  },
  {
   "cell_type": "code",
   "execution_count": 22,
   "id": "140376f6-d687-4727-af81-1ec80bd8dfec",
   "metadata": {},
   "outputs": [
    {
     "name": "stdout",
     "output_type": "stream",
     "text": [
      "* Running on local URL:  http://127.0.0.1:7875\n",
      "\n",
      "To create a public link, set `share=True` in `launch()`.\n"
     ]
    },
    {
     "data": {
      "text/html": [
       "<div><iframe src=\"http://127.0.0.1:7875/\" width=\"100%\" height=\"500\" allow=\"autoplay; camera; microphone; clipboard-read; clipboard-write;\" frameborder=\"0\" allowfullscreen></iframe></div>"
      ],
      "text/plain": [
       "<IPython.core.display.HTML object>"
      ]
     },
     "metadata": {},
     "output_type": "display_data"
    },
    {
     "data": {
      "text/plain": []
     },
     "execution_count": 22,
     "metadata": {},
     "output_type": "execute_result"
    },
    {
     "name": "stdout",
     "output_type": "stream",
     "text": [
      "Found links: {'links': [{'type': 'about page', 'url': 'https://www.brooklynkids.org/about/'}, {'type': 'careers page', 'url': 'https://www.brooklynkids.org/employment/'}, {'type': 'visit page', 'url': 'https://www.brooklynkids.org/visit/'}, {'type': 'programs page', 'url': 'https://www.brooklynkids.org/programs/'}, {'type': 'contact page', 'url': 'https://www.brooklynkids.org/contact/'}, {'type': 'events page', 'url': 'https://www.brooklynkids.org/events/'}]}\n"
     ]
    },
    {
     "data": {
      "text/markdown": [
       "\n",
       "# 🌟 Welcome to the Brooklyn Children's Museum! 🎉\n",
       "\n",
       "## **About Us**  \n",
       "At the Brooklyn Children’s Museum (BCM), we believe in the power of play and learning! Nestled in the heart of Brooklyn, our museum is a vibrant and welcoming space where children and families can explore, create, and discover together. \n",
       "\n",
       "### **Our Mission**  \n",
       "Inspired by the energy and diversity of Brooklyn, BCM strives to provide meaningful experiences that ignite curiosity, creativity, and social engagement. We are committed to being a safe, inclusive space for children to learn through play.\n",
       "\n",
       "## **Fun for Everyone! 🎈**  \n",
       "BCM offers a diverse array of exhibits and programs that cater to every little explorer! Some of our highlights include:\n",
       "\n",
       "- **ColorLab Art Studio**: Unleash your inner artist and create colorful masterpieces!\n",
       "- **STEM Makerspace**: Dive into hands-on science, technology, engineering, and math activities.\n",
       "- **Totally Tots**: A toddler haven full of interactive fun!\n",
       "\n",
       "Our exciting **Community Access Thursdays** make it even easier for everyone to join the fun! \n",
       "\n",
       "## **Birthday Party Bliss 🎂**  \n",
       "Celebrate your child’s special day at BCM! Our birthday parties offer a unique and memorable way to celebrate with friends, surrounded by creativity and fun. \n",
       "\n",
       "## **Learning Through Play 🧠**  \n",
       "Whether you're visiting with a school group, a summer camp, or just looking for an educational outing, BCM’s engaging programs promote learning through play. Our **After School Program** and **BCM @ Home Activity Kits** ensure that the fun and learning continue even beyond your visit!\n",
       "\n",
       "## **Pricing & Memberships 💸**  \n",
       "Joining the BCM family is easy and rewarding! Become a member to enjoy **unlimited free admission** to exhibits and events, exclusive member programs, and discounts on birthday parties and rentals. \n",
       "\n",
       "- **General Admission**: Check our website for pricing details.\n",
       "- **Membership**: Sign up for access to a full year of fun!\n",
       "\n",
       "## **Join Our Community! 🤝**  \n",
       "Are you passionate about educational engagement and community development? Explore exciting **career opportunities** at BCM and be part of a team dedicated to inspiring future generations!\n",
       "\n",
       "### **Get to Know Us!**  \n",
       "- **Location**: 145 Brooklyn Avenue, Brooklyn, NY 11213\n",
       "- **Hours**: Wednesday to Sunday - 10 am to 5 pm (Closed Monday and Tuesday)\n",
       "\n",
       "## **Stay Connected! 📬**  \n",
       "Never miss out on the fun! Subscribe to our newsletter to stay updated on programs, events, and more!\n",
       "\n",
       "Join us in creating unforgettable memories and a love for learning at the Brooklyn Children’s Museum. We can’t wait to see you!\n",
       "\n"
      ],
      "text/plain": [
       "<IPython.core.display.Markdown object>"
      ]
     },
     "metadata": {},
     "output_type": "display_data"
    }
   ],
   "source": [
    "def create_brochure(company_name, url, language=\"English\", tone =\"humorous, entertaining, jokey\"):\n",
    "    system_prompt = f\"\"\"You are an assistant that analyzes the contents of several relevant pages from a company website \\\n",
    "    and creates a {tone} about the company for prospective customers, investors and recruits. Respond in markdown.\\\n",
    "    Include details of company culture, customers, product pricing and careers/jobs if you have the information.\n",
    "\n",
    "    \"\"\"\n",
    "\n",
    "    stream= openai.chat.completions.create(\n",
    "        model=MODEL,\n",
    "        messages=[\n",
    "            {\"role\": \"system\", \"content\": system_prompt},\n",
    "            {\"role\": \"user\", \"content\": get_brochure_user_prompt(company_name, url, language=language)}\n",
    "          ],\n",
    "        stream = True\n",
    "    )\n",
    "    response = \"\"\n",
    "    display_handle = display(Markdown(\"\"), display_id=True)\n",
    "    for chunk in stream:\n",
    "        response += chunk.choices[0].delta.content or ''\n",
    "        response = response.replace(\"```\",\"\").replace(\"markdown\", \"\")\n",
    "        update_display(Markdown(response), display_id=display_handle.display_id)\n",
    "        \n",
    "view = gr.Interface(\n",
    "    fn=create_brochure,\n",
    "    inputs=[\n",
    "        gr.Textbox(label=\"Company name:\"),\n",
    "        gr.Textbox(label=\"Landing page URL including http:// or https://\"),\n",
    "        gr.Textbox(label=\"Language\"),\n",
    "        gr.Textbox(label=\"Tone\")],\n",
    "        outputs=[gr.Markdown(label=\"Brochure:\")]\n",
    ",\n",
    "flagging_mode=\"never\"\n",
    ")\n",
    "view.launch()"
   ]
  },
  {
   "cell_type": "code",
   "execution_count": null,
   "id": "231e3930-2788-47b7-ba96-f6bd842dbd9c",
   "metadata": {},
   "outputs": [],
   "source": []
  },
  {
   "cell_type": "code",
   "execution_count": null,
   "id": "b9aa03ea-e931-416b-9fc0-9674e210dcfd",
   "metadata": {},
   "outputs": [],
   "source": []
  }
 ],
 "metadata": {
  "kernelspec": {
   "display_name": "Python 3 (ipykernel)",
   "language": "python",
   "name": "python3"
  },
  "language_info": {
   "codemirror_mode": {
    "name": "ipython",
    "version": 3
   },
   "file_extension": ".py",
   "mimetype": "text/x-python",
   "name": "python",
   "nbconvert_exporter": "python",
   "pygments_lexer": "ipython3",
   "version": "3.11.11"
  }
 },
 "nbformat": 4,
 "nbformat_minor": 5
}
