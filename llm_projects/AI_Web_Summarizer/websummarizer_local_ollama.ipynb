{
 "cells": [
  {
   "cell_type": "markdown",
   "id": "eb8c7a1f-b428-4190-a8a7-764a483f2d43",
   "metadata": {},
   "source": [
    "# Website Summerizer Using Local llama3.2 via Ollama"
   ]
  },
  {
   "cell_type": "code",
   "execution_count": 1,
   "id": "26b43811-d65c-417e-9700-e639428c818b",
   "metadata": {},
   "outputs": [],
   "source": [
    "import requests\n",
    "from bs4 import BeautifulSoup\n",
    "from IPython.display import Markdown, display\n",
    "import ollama"
   ]
  },
  {
   "cell_type": "code",
   "execution_count": 2,
   "id": "4d4c7652-75a5-4d94-8b1d-84322072c98d",
   "metadata": {},
   "outputs": [],
   "source": [
    "OLLAMA_API = \"http://localhost:11434/api/chat\"\n",
    "HEADERS = {\"Content-Type\": \"application/json\"}\n",
    "MODEL = \"llama3.2\""
   ]
  },
  {
   "cell_type": "code",
   "execution_count": 3,
   "id": "a57865cb-7dc5-4221-9254-d3e2a8fb288d",
   "metadata": {},
   "outputs": [],
   "source": [
    "messages=[\n",
    "    {\"role\":\"user\", \"content\":\"Describe some of the business applications of Gen AI\"}\n",
    "]\n",
    "\n",
    "prompt = {\n",
    "        \"model\": MODEL,\n",
    "        \"messages\": messages,\n",
    "        \"stream\": False\n",
    "    }"
   ]
  },
  {
   "cell_type": "code",
   "execution_count": 4,
   "id": "152fbb2a-8925-4edb-aa83-5f5cfd21d9d0",
   "metadata": {},
   "outputs": [
    {
     "name": "stdout",
     "output_type": "stream",
     "text": [
      "Genetic Artificial Intelligence (Gen AI) is a rapidly evolving field that combines machine learning, genetics, and biotechnology to develop intelligent systems. Some potential business applications of Gen AI include:\n",
      "\n",
      "1. **Personalized Medicine**: Gen AI can help create personalized treatment plans by analyzing an individual's genetic profile, medical history, and lifestyle factors.\n",
      "2. **Predictive Maintenance**: By analyzing sensor data from equipment and machinery, Gen AI can predict when maintenance is needed, reducing downtime and increasing efficiency.\n",
      "3. **Cybersecurity**: Gen AI-powered systems can analyze vast amounts of network traffic to detect and respond to threats in real-time, protecting against cyberattacks.\n",
      "4. **Supply Chain Optimization**: Gen AI can optimize supply chain logistics by analyzing data from sensors, drones, and other sources to predict demand, reduce costs, and improve delivery times.\n",
      "5. **Autonomous Vehicles**: Gen AI-powered systems can enable self-driving cars and trucks to navigate complex environments, avoid accidents, and optimize fuel efficiency.\n",
      "6. **Natural Language Processing (NLP)**: Gen AI can be used to develop more advanced NLP models that can understand nuances of language, generate human-like text, and engage in conversations.\n",
      "7. **Climate Modeling**: Gen AI-powered climate models can analyze vast amounts of data to predict weather patterns, sea-level rise, and other environmental changes, helping businesses and policymakers make informed decisions.\n",
      "8. **Pharmaceutical Discovery**: Gen AI can help speed up the discovery process for new medicines by analyzing large datasets of genetic information, medical literature, and experimental results.\n",
      "9. **Healthcare Analytics**: Gen AI-powered systems can analyze vast amounts of healthcare data to identify patterns, predict disease outbreaks, and optimize treatment plans.\n",
      "10. **Environmental Monitoring**: Gen AI-powered sensors can monitor air quality, water quality, and other environmental factors in real-time, helping businesses and policymakers track changes and make data-driven decisions.\n",
      "\n",
      "These are just a few examples of the many potential business applications of Gen AI. As the field continues to evolve, we can expect to see even more innovative solutions emerge.\n"
     ]
    }
   ],
   "source": [
    "# test prompt with llama3.2\n",
    "response = ollama.chat(model=MODEL, messages=messages)\n",
    "print(response['message']['content'])"
   ]
  },
  {
   "cell_type": "code",
   "execution_count": 28,
   "id": "3ec7c46c-0302-4fff-99e6-c16da953e65b",
   "metadata": {},
   "outputs": [],
   "source": [
    "headers = {\n",
    " \"User-Agent\": \"Mozilla/5.0 (Windows NT 10.0; Win64; x64) AppleWebKit/537.36 (KHTML, like Gecko) Chrome/117.0.0.0 Safari/537.36\"\n",
    "}\n",
    "\n",
    "class website:\n",
    "\n",
    "    def __init__(self, url):\n",
    "        \"\"\"\n",
    "        Create this Website object from the given url using the BeautifulSoup library\n",
    "        \"\"\"\n",
    "        self.url = url\n",
    "        response = requests.get(url, headers=headers)\n",
    "        soup = BeautifulSoup(response.content, 'html.parser')\n",
    "        self.title = soup.title.string if soup.title else \"No title found\"\n",
    "        for irrelevant in soup.body([\"script\", \"style\", \"img\", \"input\"]):\n",
    "            irrelevant.decompose()\n",
    "        self.text = soup.body.get_text(separator=\"\\n\", strip=True)"
   ]
  },
  {
   "cell_type": "code",
   "execution_count": 25,
   "id": "4b9daeda-410a-4310-878c-44f945dfbecc",
   "metadata": {},
   "outputs": [],
   "source": [
    "system_prompt = \"You are an assistant that analyzes the contents of a website \\\n",
    "and provides a short summary, ignoring text that might be navigation related. \\\n",
    "Respond in markdown.\"\n",
    "\n",
    "def user_prompt_for(website):\n",
    "    user_prompt = f\"You are looking at a website titled {website.title}\"\n",
    "    user_prompt += \"\\nThe contents of this website is as follows; \\\n",
    "please provide a short summary of this website in markdown. \\\n",
    "If it includes news or announcements, then summarize these too.\\n\\n\"\n",
    "    user_prompt += website.text\n",
    "    return user_prompt\n",
    "\n",
    "def messages_for(website):\n",
    "    return[\n",
    "        {\"role\": \"system\", \"content\": system_prompt},\n",
    "        {\"role\": \"user\", \"content\": user_prompt_for(website)}\n",
    "    ]\n",
    "\n",
    "def summarize(url):\n",
    "    webpage= Website(url)\n",
    "    messages = messages_for(webpage)\n",
    "    response = ollama.chat(model=MODEL, messages=messages)\n",
    "    return print(response['message']['content'])"
   ]
  },
  {
   "cell_type": "code",
   "execution_count": 31,
   "id": "e40f8ae4-6f95-42f7-b643-616507941b62",
   "metadata": {},
   "outputs": [],
   "source": [
    "web_url = \"https://cnn.com\""
   ]
  },
  {
   "cell_type": "code",
   "execution_count": 34,
   "id": "939b6ed3-90f4-4c40-a147-3ca7c9d9db77",
   "metadata": {},
   "outputs": [
    {
     "name": "stdout",
     "output_type": "stream",
     "text": [
      "Here are some news articles and topics from the past week:\n",
      "\n",
      "**Politics**\n",
      "\n",
      "* Trump returns to office: President Donald Trump is back in Washington, D.C., after a week-long vacation at his Mar-a-Lago resort in Florida.\n",
      "* Tracking Trump's executive actions: CNN has been following Trump's executive actions since he took office in 2017. Here are some of the key ones:\n",
      "\t+ \"Trump Returns to Office with New Executive Orders\"\n",
      "\t+ \"Here Are Trump's Latest Executive Actions on Immigration and Trade\"\n",
      "\n",
      "**Business**\n",
      "\n",
      "* The real reason behind the DeepSeek hype: AI experts say that DeepSeek, a new deep learning algorithm, is not as groundbreaking as it seems.\n",
      "* Apple picks Alibaba to launch AI features in China: Apple has partnered with Alibaba Group to launch AI-powered services in China.\n",
      "* Poppi and Olipop are the trendy new sodas. Coca-Cola is responding: The two new soda brands have gained popularity among health-conscious consumers, but Coca-Cola is not giving up on its own soda business.\n",
      "\n",
      "**Technology**\n",
      "\n",
      "* When protein shakes and pre-workout go too far: Some fitness enthusiasts have taken protein shaker culture to an extreme, leading to safety concerns.\n",
      "* Researchers confirm Hall of Famer Bobby Hull had CTE when he died 2 years ago: A study has confirmed that hockey great Bobby Hull suffered from chronic traumatic encephalopathy (CTE) after a long career in the sport.\n",
      "\n",
      "**Entertainment**\n",
      "\n",
      "* BJ Novak jokes that Mindy Kaling loves being famous at her Hollywood Walk of Fame ceremony: The actor and writer poked fun at himself on social media after receiving his star.\n",
      "* Scarlett Johansson demands action after stars targeted in AI deepfake: The actress has called for greater regulation and awareness about the use of AI deepfakes.\n",
      "\n",
      "**Sports**\n",
      "\n",
      "* Tourists flock to erupting volcano in Italy, blocking rescue workers: Thousands of tourists have flocked to Mount Etna in Sicily, which is currently erupting, but it's causing a safety concern for rescue workers.\n",
      "* The week in 31 photos: CNN has selected some of the best photos from the past week.\n",
      "\n",
      "**Climate**\n",
      "\n",
      "* Climate: Solutions\n",
      "* Ukraine-Russia War: The war between Ukraine and Russia continues to escalate, with many concerns about the environmental impact of the conflict.\n",
      "\n",
      "I hope that helps! Let me know if you have any specific topics or news stories you'd like to discuss.\n"
     ]
    }
   ],
   "source": [
    "summarize(web_url)"
   ]
  },
  {
   "cell_type": "code",
   "execution_count": null,
   "id": "1c783d01-63d3-4d33-bc9a-5f59ba6955c5",
   "metadata": {},
   "outputs": [],
   "source": []
  }
 ],
 "metadata": {
  "kernelspec": {
   "display_name": "Python 3 (ipykernel)",
   "language": "python",
   "name": "python3"
  },
  "language_info": {
   "codemirror_mode": {
    "name": "ipython",
    "version": 3
   },
   "file_extension": ".py",
   "mimetype": "text/x-python",
   "name": "python",
   "nbconvert_exporter": "python",
   "pygments_lexer": "ipython3",
   "version": "3.11.11"
  }
 },
 "nbformat": 4,
 "nbformat_minor": 5
}
