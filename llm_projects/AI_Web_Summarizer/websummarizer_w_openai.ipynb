{
 "cells": [
  {
   "cell_type": "markdown",
   "id": "162fe10d-f414-4cd8-9994-ec54b2bdbd51",
   "metadata": {},
   "source": [
    "# Website Summerizer Using OpenAI API"
   ]
  },
  {
   "cell_type": "markdown",
   "id": "a7bd6ece-b601-4f88-be1b-d75dab89bf80",
   "metadata": {},
   "source": [
    "This mini project use beautifulsoup to scrap the website user provided and convert the website info as a prompt to OpenAI to summarize"
   ]
  },
  {
   "cell_type": "code",
   "execution_count": 5,
   "id": "167a5ea0-1c6f-4088-a56e-bb714c2319c5",
   "metadata": {},
   "outputs": [],
   "source": [
    "import os\n",
    "import requests\n",
    "from dotenv import load_dotenv\n",
    "from bs4 import BeautifulSoup\n",
    "from IPython.display import Markdown, display\n",
    "from openai import OpenAI"
   ]
  },
  {
   "cell_type": "code",
   "execution_count": 11,
   "id": "94a16a1f-6bb1-4404-b622-48b56087e0e6",
   "metadata": {},
   "outputs": [],
   "source": [
    "\n",
    "load_dotenv(override=True)\n",
    "api_key = os.getenv('OPENAI_API_KEY')"
   ]
  },
  {
   "cell_type": "code",
   "execution_count": 7,
   "id": "2b6c0956-a4b3-475b-b70d-292ee68632d1",
   "metadata": {},
   "outputs": [],
   "source": [
    "openai = OpenAI()"
   ]
  },
  {
   "cell_type": "code",
   "execution_count": 9,
   "id": "ae112126-6b2d-40ef-98fa-8d0b491a586d",
   "metadata": {},
   "outputs": [],
   "source": [
    "headers = {\n",
    " \"User-Agent\": \"Mozilla/5.0 (Windows NT 10.0; Win64; x64) AppleWebKit/537.36 (KHTML, like Gecko) Chrome/117.0.0.0 Safari/537.36\"\n",
    "}\n",
    "\n",
    "class Website:\n",
    "\n",
    "    def __init__(self, url):\n",
    "        \"\"\"\n",
    "        Create this Website object from the given url using the BeautifulSoup library\n",
    "        \"\"\"\n",
    "        self.url = url\n",
    "        response = requests.get(url, headers=headers)\n",
    "        soup = BeautifulSoup(response.content, 'html.parser')\n",
    "        self.title = soup.title.string if soup.title else \"No title found\"\n",
    "        for irrelevant in soup.body([\"script\", \"style\", \"img\", \"input\"]):\n",
    "            irrelevant.decompose()\n",
    "        self.text = soup.body.get_text(separator=\"\\n\", strip=True)\n",
    "\n",
    "# Define our system prompt - you can experiment with this later, changing the last sentence to 'Respond in markdown in Spanish.\"\n",
    "\n",
    "system_prompt = \"You are an assistant that analyzes the contents of a website \\\n",
    "and provides a short summary, ignoring text that might be navigation related. \\\n",
    "Respond in markdown.\"\n",
    "\n",
    "def user_prompt_for(website):\n",
    "    user_prompt = f\"You are looking at a website titled {website.title}\"\n",
    "    user_prompt += \"\\nThe contents of this website is as follows; \\\n",
    "please provide a short summary of this website in markdown. \\\n",
    "If it includes news or announcements, then summarize these too.\\n\\n\"\n",
    "    user_prompt += website.text\n",
    "    return user_prompt\n",
    "\n",
    "def messages_for(website):\n",
    "    return[\n",
    "        {\"role\": \"system\", \"content\": system_prompt},\n",
    "        {\"role\": \"user\", \"content\": user_prompt_for(website)}\n",
    "    ]\n",
    "\n",
    "def summarize(url):\n",
    "    webpage= Website(url)\n",
    "    response = openai.chat.completions.create(\n",
    "        model =\"gpt-4o-mini\",\n",
    "        messages = messages_for(webpage)\n",
    "    )\n",
    "    return display(Markdown(response.choices[0].message.content))"
   ]
  },
  {
   "cell_type": "code",
   "execution_count": 10,
   "id": "7dec96ad-3416-4cc5-b0d4-465de47dee3c",
   "metadata": {},
   "outputs": [
    {
     "data": {
      "text/markdown": [
       "# Summary of CNN Website Contents\n",
       "\n",
       "CNN is a leading news website that provides breaking news, in-depth analysis, and a variety of multimedia content covering a range of topics including U.S. politics, world news, business, health, entertainment, sports, science, and technology. The site features live TV broadcasts, video reports, and podcasts that delve into current events.\n",
       "\n",
       "## Key Highlights:\n",
       "\n",
       "- **Breaking News:**\n",
       "  - AP has filed a lawsuit against Trump administration officials after being barred from presidential events.\n",
       "  - Lawmakers are expressing concern over NASA's lack of transparency regarding DOGE.\n",
       "  - Los Angeles DA opposes new evidence claims by the Menendez brothers.\n",
       "  - Recent updates include a court ruling on Trump's push to expand power and ongoing debates in various political arenas.\n",
       "\n",
       "- **U.S. Affairs:**\n",
       "  - A federal judge has allowed the Trump administration to move forward with dismantling USAID.\n",
       "  - Two individuals have been charged in connection to a transgender man's death in New York.\n",
       "\n",
       "- **International Updates:**\n",
       "  - Israel is preparing for the return of a coffin believed to contain the remains of Shiri Bibas.\n",
       "  - U.S. aid freezes have put HIV-positive orphans in Kenya at risk.\n",
       "\n",
       "- **Entertainment & Culture:**\n",
       "  - Tributes are pouring in for individuals such as soul singer Jerry Butler and Notorious B.I.G.'s mother, Voletta Wallace, who recently passed away.\n",
       "\n",
       "- **Health & Science:**\n",
       "  - Insightful articles discuss the implications of ultraprocessed foods and health risks related to various conditions.\n",
       "\n",
       "- **Sports:**\n",
       "  - The New York Yankees have updated their facial hair policy, allowing beards.\n",
       "\n",
       "CNN continues to engage its audience with live updates, podcasts, video segments, and in-depth reporting on global events and issues affecting society. The platform encourages user interaction through feedback mechanisms related to advertisements and website functionality."
      ],
      "text/plain": [
       "<IPython.core.display.Markdown object>"
      ]
     },
     "metadata": {},
     "output_type": "display_data"
    }
   ],
   "source": [
    "summarize(\"https://cnn.com\")"
   ]
  },
  {
   "cell_type": "code",
   "execution_count": null,
   "id": "94606e65-017e-4729-a701-5d266b41cc33",
   "metadata": {},
   "outputs": [],
   "source": []
  }
 ],
 "metadata": {
  "kernelspec": {
   "display_name": "Python 3 (ipykernel)",
   "language": "python",
   "name": "python3"
  },
  "language_info": {
   "codemirror_mode": {
    "name": "ipython",
    "version": 3
   },
   "file_extension": ".py",
   "mimetype": "text/x-python",
   "name": "python",
   "nbconvert_exporter": "python",
   "pygments_lexer": "ipython3",
   "version": "3.11.11"
  }
 },
 "nbformat": 4,
 "nbformat_minor": 5
}
