{
 "cells": [
  {
   "cell_type": "code",
   "execution_count": 1,
   "id": "167a5ea0-1c6f-4088-a56e-bb714c2319c5",
   "metadata": {},
   "outputs": [],
   "source": [
    "import os\n",
    "import requests\n",
    "from dotenv import load_dotenv\n",
    "from bs4 import BeautifulSoup\n",
    "from IPython.display import Markdown, display\n",
    "from openai import OpenAI"
   ]
  },
  {
   "cell_type": "code",
   "execution_count": 2,
   "id": "94a16a1f-6bb1-4404-b622-48b56087e0e6",
   "metadata": {},
   "outputs": [
    {
     "name": "stdout",
     "output_type": "stream",
     "text": [
      "API key found and looks good so far!\n"
     ]
    }
   ],
   "source": [
    "\n",
    "load_dotenv(override=True)\n",
    "api_key = os.getenv('OPENAI_API_KEY')\n",
    "\n",
    "# Check the key\n",
    "\n",
    "if not api_key:\n",
    "    print(\"No API key was found - please head over to the troubleshooting notebook in this folder to identify & fix!\")\n",
    "elif not api_key.startswith(\"sk-proj-\"):\n",
    "    print(\"An API key was found, but it doesn't start sk-proj-; please check you're using the right key - see troubleshooting notebook\")\n",
    "elif api_key.strip() != api_key:\n",
    "    print(\"An API key was found, but it looks like it might have space or tab characters at the start or end - please remove them - see troubleshooting notebook\")\n",
    "else:\n",
    "    print(\"API key found and looks good so far!\")\n"
   ]
  },
  {
   "cell_type": "code",
   "execution_count": 3,
   "id": "2b6c0956-a4b3-475b-b70d-292ee68632d1",
   "metadata": {},
   "outputs": [],
   "source": [
    "openai = OpenAI()"
   ]
  },
  {
   "cell_type": "code",
   "execution_count": 5,
   "id": "740a955e-ecfc-4575-b460-56b35d046230",
   "metadata": {},
   "outputs": [
    {
     "name": "stdout",
     "output_type": "stream",
     "text": [
      "New York City is comprised of five boroughs:\n",
      "\n",
      "1. **Manhattan** - Known for its iconic skyline, Times Square, Central Park, and being a major financial and cultural center.\n",
      "2. **Brooklyn** - Famous for its diverse neighborhoods, cultural scene, and landmarks like the Brooklyn Bridge and Coney Island.\n",
      "3. **Queens** - The largest borough by area and known for its ethnic diversity, Flushing Meadows-Corona Park, and like the USTA Billie Jean King National Tennis Center.\n",
      "4. **The Bronx** - Known for being the birthplace of hip-hop, the Bronx Zoo, and the New York Yankees.\n",
      "5. **Staten Island** - Often referred to as the \"forgotten borough,\" accessible by ferry and known for its parks and views of Manhattan.\n",
      "\n",
      "These boroughs each have their own unique character and contribute to the rich tapestry of New York City.\n"
     ]
    }
   ],
   "source": [
    "message = \"what are the five borough in nyc\"\n",
    "response = openai.chat.completions.create(model=\"gpt-4o-mini\", \n",
    "                                          messages=[{\"role\":\"user\", \"content\":message}])\n",
    "print(response.choices[0].message.content)"
   ]
  },
  {
   "cell_type": "code",
   "execution_count": 6,
   "id": "ae112126-6b2d-40ef-98fa-8d0b491a586d",
   "metadata": {},
   "outputs": [],
   "source": [
    "headers = {\n",
    " \"User-Agent\": \"Mozilla/5.0 (Windows NT 10.0; Win64; x64) AppleWebKit/537.36 (KHTML, like Gecko) Chrome/117.0.0.0 Safari/537.36\"\n",
    "}\n",
    "\n",
    "class Website:\n",
    "\n",
    "    def __init__(self, url):\n",
    "        \"\"\"\n",
    "        Create this Website object from the given url using the BeautifulSoup library\n",
    "        \"\"\"\n",
    "        self.url = url\n",
    "        response = requests.get(url, headers=headers)\n",
    "        soup = BeautifulSoup(response.content, 'html.parser')\n",
    "        self.title = soup.title.string if soup.title else \"No title found\"\n",
    "        for irrelevant in soup.body([\"script\", \"style\", \"img\", \"input\"]):\n",
    "            irrelevant.decompose()\n",
    "        self.text = soup.body.get_text(separator=\"\\n\", strip=True)"
   ]
  },
  {
   "cell_type": "code",
   "execution_count": 31,
   "id": "02e5efbd-e25f-4ce0-8529-93565afa6588",
   "metadata": {},
   "outputs": [],
   "source": [
    "ed = Website(\"https://anthropic.com\")"
   ]
  },
  {
   "cell_type": "code",
   "execution_count": 32,
   "id": "f8d2128d-ae05-4321-a207-cdf10b1ba417",
   "metadata": {},
   "outputs": [],
   "source": [
    "# Define our system prompt - you can experiment with this later, changing the last sentence to 'Respond in markdown in Spanish.\"\n",
    "\n",
    "system_prompt = \"You are an assistant that analyzes the contents of a website \\\n",
    "and provides a short summary, ignoring text that might be navigation related. \\\n",
    "Respond in markdown.\"\n",
    "\n",
    "def user_prompt_for(website):\n",
    "    user_prompt = f\"You are looking at a website titled {website.title}\"\n",
    "    user_prompt += \"\\nThe contents of this website is as follows; \\\n",
    "please provide a short summary of this website in markdown. \\\n",
    "If it includes news or announcements, then summarize these too.\\n\\n\"\n",
    "    user_prompt += website.text\n",
    "    return user_prompt"
   ]
  },
  {
   "cell_type": "code",
   "execution_count": 33,
   "id": "0a2343fa-efc1-4b75-96c8-3c556144cf98",
   "metadata": {},
   "outputs": [
    {
     "name": "stdout",
     "output_type": "stream",
     "text": [
      "2 + 2 is 22! Just kidding, it's actually 4.\n"
     ]
    }
   ],
   "source": [
    "messages = [\n",
    "    {\"role\": \"system\", \"content\": \"You are a very bad at math assistant\"},\n",
    "    {\"role\": \"user\", \"content\": \"What is 2 + 2?\"}\n",
    "]\n",
    "\n",
    "response = openai.chat.completions.create(model=\"gpt-4o-mini\", messages=messages)\n",
    "print(response.choices[0].message.content)"
   ]
  },
  {
   "cell_type": "code",
   "execution_count": 34,
   "id": "e0d92382-7a71-41e4-8636-8f4eaa932064",
   "metadata": {},
   "outputs": [
    {
     "data": {
      "text/plain": [
       "[{'role': 'system',\n",
       "  'content': 'You are an assistant that analyzes the contents of a website and provides a short summary, ignoring text that might be navigation related. Respond in markdown.'},\n",
       " {'role': 'user',\n",
       "  'content': 'You are looking at a website titled Home \\\\ Anthropic\\nThe contents of this website is as follows; please provide a short summary of this website in markdown. If it includes news or announcements, then summarize these too.\\n\\nClaude\\nOverview\\nTeam\\nEnterprise\\nAPI\\nPricing\\nResearch\\nCompany\\nCareers\\nNews\\nTry Claude\\nAI\\nresearch\\nand\\nproducts\\nthat put safety at the frontier\\nClaude.ai\\nMeet Claude 3.5 Sonnet\\nClaude 3.5 Sonnet, our most intelligent AI model, is now available.\\nTalk to Claude\\nAPI\\nBuild with Claude\\nCreate AI-powered applications and custom experiences using Claude.\\nLearn more\\nAnnouncement\\nStatement from Dario Amodei on the Paris AI Action Summit\\nRead the statement\\nPolicy\\nAnthropic Economic Index\\nPolicy\\nOur Responsible Scaling Policy\\nOur Work\\nProduct\\nClaude for Enterprise\\nSep 4, 2024\\nAlignment\\n·\\nResearch\\nConstitutional AI: Harmlessness from AI Feedback\\nDec 15, 2022\\nAnnouncements\\nCore Views on AI Safety: When, Why, What, and How\\nMar 8, 2023\\nWork with Anthropic\\nAnthropic is an AI safety and research company based in San Francisco. Our interdisciplinary team has experience across ML, physics, policy, and product. Together, we generate research and create reliable, beneficial AI systems.\\nSee open roles\\nClaude\\nAPI\\nTeam\\nPricing\\nResearch\\nCoding\\nCompany\\nCustomers\\nNews\\nCareers\\nPress Inquiries\\nSupport\\nStatus\\nAvailability\\nTwitter\\nLinkedIn\\nYouTube\\nTerms of Service – Consumer\\nTerms of Service – Commercial\\nPrivacy Policy\\nUsage Policy\\nResponsible Disclosure Policy\\nCompliance\\nPrivacy Choices\\n© 2025 Anthropic PBC'}]"
      ]
     },
     "execution_count": 34,
     "metadata": {},
     "output_type": "execute_result"
    }
   ],
   "source": [
    "def messages_for(website):\n",
    "    return[\n",
    "        {\"role\": \"system\", \"content\": system_prompt},\n",
    "        {\"role\": \"user\", \"content\": user_prompt_for(website)}\n",
    "    ]\n",
    "\n",
    "messages_for(ed)"
   ]
  },
  {
   "cell_type": "code",
   "execution_count": 27,
   "id": "3565ffe2-4060-44ee-b4c3-4f2ad3f5431e",
   "metadata": {},
   "outputs": [],
   "source": [
    "def summarize(url):\n",
    "    webpage= Website(url)\n",
    "    response = openai.chat.completions.create(\n",
    "        model =\"gpt-4o-mini\",\n",
    "        messages = messages_for(webpage)\n",
    "    )\n",
    "    return display(Markdown(response.choices[0].message.content))"
   ]
  },
  {
   "cell_type": "code",
   "execution_count": 28,
   "id": "7dec96ad-3416-4cc5-b0d4-465de47dee3c",
   "metadata": {},
   "outputs": [
    {
     "data": {
      "text/markdown": [
       "# Summary of Anthropic Website\n",
       "\n",
       "Anthropic is an AI research and safety company based in San Francisco, focused on developing and promoting the ethical use of artificial intelligence. The website highlights their key product, Claude 3.5 Sonnet, as their most advanced AI model, which is available for engagement through various applications and APIs.\n",
       "\n",
       "## Key Features:\n",
       "- **Claude 3.5 Sonnet**: The latest version of their AI model, promoting intelligent interactions.\n",
       "- **API Access**: Tools to build custom applications powered by Claude.\n",
       "- **Enterprise Solutions**: Tailored AI products for business needs.\n",
       "- **Research Focus**: Commitment to AI safety, with initiatives like the \"Anthropic Economic Index\" and \"Constitutional AI\".\n",
       "\n",
       "## Recent Announcements:\n",
       "- **Paris AI Action Summit**: A statement from co-founder Dario Amodei addressing the company's perspectives and commitments at the summit.\n",
       "\n",
       "## Company Values:\n",
       "Anthropic emphasizes its interdisciplinary approach to ensure reliable and beneficial AI systems, with an open call for careers in the field.\n",
       "\n",
       "For more information about their work, research, and career opportunities, you can explore the relevant sections on their website."
      ],
      "text/plain": [
       "<IPython.core.display.Markdown object>"
      ]
     },
     "metadata": {},
     "output_type": "display_data"
    }
   ],
   "source": [
    "summarize(\"https://anthropic.com\")"
   ]
  },
  {
   "cell_type": "code",
   "execution_count": null,
   "id": "94606e65-017e-4729-a701-5d266b41cc33",
   "metadata": {},
   "outputs": [],
   "source": []
  }
 ],
 "metadata": {
  "kernelspec": {
   "display_name": "Python 3 (ipykernel)",
   "language": "python",
   "name": "python3"
  },
  "language_info": {
   "codemirror_mode": {
    "name": "ipython",
    "version": 3
   },
   "file_extension": ".py",
   "mimetype": "text/x-python",
   "name": "python",
   "nbconvert_exporter": "python",
   "pygments_lexer": "ipython3",
   "version": "3.11.11"
  }
 },
 "nbformat": 4,
 "nbformat_minor": 5
}
